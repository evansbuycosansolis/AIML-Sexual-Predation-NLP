{
 "cells": [
  {
   "cell_type": "code",
   "execution_count": 84,
   "id": "7109c319",
   "metadata": {
    "scrolled": true
   },
   "outputs": [
    {
     "name": "stdout",
     "output_type": "stream",
     "text": [
      "2.7.0\n"
     ]
    }
   ],
   "source": [
    "\n",
    "%matplotlib inline\n",
    "from __future__ import division, print_function\n",
    "from gensim import models\n",
    "from keras import datasets\n",
    "from keras import layers\n",
    "from keras import losses\n",
    "from keras import models\n",
    "from keras import utils\n",
    "\n",
    "from keras.callbacks import History\n",
    "from keras.callbacks import LearningRateScheduler\n",
    "from keras.callbacks import ModelCheckpoint\n",
    "from keras.layers import Activation\n",
    "from keras.layers import Dense, Dropout, Reshape, Flatten, concatenate, Input, Conv1D, GlobalMaxPooling1D, Embedding\n",
    "from keras.layers import Flatten\n",
    "from keras.layers.recurrent import LSTM\n",
    "from keras.models import Model\n",
    "from keras.models import Sequential\n",
    "\n",
    "from keras.preprocessing.sequence import pad_sequences\n",
    "from keras.preprocessing.text import Tokenizer\n",
    "from keras.regularizers import l2\n",
    "from nltk.corpus import stopwords\n",
    "from nltk.stem.porter import PorterStemmer\n",
    "from platform import python_version\n",
    "from sklearn.metrics import roc_auc_score\n",
    "from sklearn.model_selection import train_test_split\n",
    "from sklearn.utils import shuffle\n",
    "from torch.autograd import Variable\n",
    "from tensorflow.keras.optimizers import RMSprop\n",
    "from tensorflow.keras.optimizers import SGD\n",
    "import collections\n",
    "import gensim\n",
    "import itertools\n",
    "import keras\n",
    "import logging\n",
    "import matplotlib\n",
    "import matplotlib.pyplot as plt\n",
    "import nltk\n",
    "import numpy as np\n",
    "import os\n",
    "import pandas as pd\n",
    "import re\n",
    "import sklearn\n",
    "import string\n",
    "import tensorflow as tf\n",
    "import time\n",
    "import torch\n",
    "import torch.nn as nn\n",
    "import torch.nn.functional as F\n",
    "import transformers\n",
    "import transformers\n",
    "print(tf.keras.__version__)\n",
    "\n",
    "\n"
   ]
  },
  {
   "cell_type": "code",
   "execution_count": 85,
   "id": "02a2a798",
   "metadata": {
    "scrolled": true
   },
   "outputs": [
    {
     "data": {
      "text/html": [
       "<div>\n",
       "<style scoped>\n",
       "    .dataframe tbody tr th:only-of-type {\n",
       "        vertical-align: middle;\n",
       "    }\n",
       "\n",
       "    .dataframe tbody tr th {\n",
       "        vertical-align: top;\n",
       "    }\n",
       "\n",
       "    .dataframe thead th {\n",
       "        text-align: right;\n",
       "    }\n",
       "</style>\n",
       "<table border=\"1\" class=\"dataframe\">\n",
       "  <thead>\n",
       "    <tr style=\"text-align: right;\">\n",
       "      <th></th>\n",
       "      <th>Text</th>\n",
       "      <th>Label</th>\n",
       "    </tr>\n",
       "  </thead>\n",
       "  <tbody>\n",
       "    <tr>\n",
       "      <th>0</th>\n",
       "      <td>Buses approaching to this place is highly unsafe.</td>\n",
       "      <td>1</td>\n",
       "    </tr>\n",
       "    <tr>\n",
       "      <th>1</th>\n",
       "      <td>a man was commenting at me.</td>\n",
       "      <td>1</td>\n",
       "    </tr>\n",
       "    <tr>\n",
       "      <th>2</th>\n",
       "      <td>in a share auto</td>\n",
       "      <td>0</td>\n",
       "    </tr>\n",
       "    <tr>\n",
       "      <th>3</th>\n",
       "      <td>I was coming out of a club at night with a few...</td>\n",
       "      <td>1</td>\n",
       "    </tr>\n",
       "    <tr>\n",
       "      <th>4</th>\n",
       "      <td>One of my friends was molested in the crowd. T...</td>\n",
       "      <td>0</td>\n",
       "    </tr>\n",
       "    <tr>\n",
       "      <th>5</th>\n",
       "      <td>I was travelling in metro heading to my colleg...</td>\n",
       "      <td>0</td>\n",
       "    </tr>\n",
       "    <tr>\n",
       "      <th>6</th>\n",
       "      <td>A guy masturbating at the roadside and ogling....</td>\n",
       "      <td>1</td>\n",
       "    </tr>\n",
       "    <tr>\n",
       "      <th>7</th>\n",
       "      <td>When I was travelling in red line metro , a gu...</td>\n",
       "      <td>0</td>\n",
       "    </tr>\n",
       "    <tr>\n",
       "      <th>8</th>\n",
       "      <td>Late evening (around 7.30 pm) after shopping i...</td>\n",
       "      <td>0</td>\n",
       "    </tr>\n",
       "    <tr>\n",
       "      <th>9</th>\n",
       "      <td>For a week in the morning when I found be taki...</td>\n",
       "      <td>1</td>\n",
       "    </tr>\n",
       "    <tr>\n",
       "      <th>10</th>\n",
       "      <td>It happened in the afternoon in the metro.It w...</td>\n",
       "      <td>1</td>\n",
       "    </tr>\n",
       "    <tr>\n",
       "      <th>11</th>\n",
       "      <td>some people seemed so friendly,but kept follow...</td>\n",
       "      <td>1</td>\n",
       "    </tr>\n",
       "    <tr>\n",
       "      <th>12</th>\n",
       "      <td>i know of a girl who was groped in the DDA par...</td>\n",
       "      <td>0</td>\n",
       "    </tr>\n",
       "    <tr>\n",
       "      <th>13</th>\n",
       "      <td>harassment</td>\n",
       "      <td>0</td>\n",
       "    </tr>\n",
       "    <tr>\n",
       "      <th>14</th>\n",
       "      <td>a girl was passing and some men started callin...</td>\n",
       "      <td>0</td>\n",
       "    </tr>\n",
       "    <tr>\n",
       "      <th>15</th>\n",
       "      <td>self explanatory</td>\n",
       "      <td>0</td>\n",
       "    </tr>\n",
       "    <tr>\n",
       "      <th>16</th>\n",
       "      <td>A guy usually clicks picture of my friend. It ...</td>\n",
       "      <td>0</td>\n",
       "    </tr>\n",
       "    <tr>\n",
       "      <th>17</th>\n",
       "      <td>the person took advantage of the crowd while s...</td>\n",
       "      <td>0</td>\n",
       "    </tr>\n",
       "    <tr>\n",
       "      <th>18</th>\n",
       "      <td>my friend was going to market and one boy comm...</td>\n",
       "      <td>1</td>\n",
       "    </tr>\n",
       "    <tr>\n",
       "      <th>19</th>\n",
       "      <td>my auto wallah stopped midway and asked us to ...</td>\n",
       "      <td>0</td>\n",
       "    </tr>\n",
       "    <tr>\n",
       "      <th>20</th>\n",
       "      <td>i was walking upstairs on the bridge in dadar ...</td>\n",
       "      <td>0</td>\n",
       "    </tr>\n",
       "    <tr>\n",
       "      <th>21</th>\n",
       "      <td>it was really bad.</td>\n",
       "      <td>1</td>\n",
       "    </tr>\n",
       "    <tr>\n",
       "      <th>22</th>\n",
       "      <td>may be i've been studying 6th then when i was ...</td>\n",
       "      <td>0</td>\n",
       "    </tr>\n",
       "    <tr>\n",
       "      <th>23</th>\n",
       "      <td>It happened with me about 45 years ago. I used...</td>\n",
       "      <td>0</td>\n",
       "    </tr>\n",
       "    <tr>\n",
       "      <th>24</th>\n",
       "      <td>i was returning home when a group of men start...</td>\n",
       "      <td>1</td>\n",
       "    </tr>\n",
       "    <tr>\n",
       "      <th>25</th>\n",
       "      <td>a strange looking man followed the victim from...</td>\n",
       "      <td>0</td>\n",
       "    </tr>\n",
       "    <tr>\n",
       "      <th>26</th>\n",
       "      <td>During evening , I went to visit my friend and...</td>\n",
       "      <td>0</td>\n",
       "    </tr>\n",
       "    <tr>\n",
       "      <th>27</th>\n",
       "      <td>while i was travelling in the bus with my frie...</td>\n",
       "      <td>1</td>\n",
       "    </tr>\n",
       "    <tr>\n",
       "      <th>28</th>\n",
       "      <td>exposing body parts</td>\n",
       "      <td>0</td>\n",
       "    </tr>\n",
       "    <tr>\n",
       "      <th>29</th>\n",
       "      <td>some boys were teasing me when i was going in ...</td>\n",
       "      <td>1</td>\n",
       "    </tr>\n",
       "    <tr>\n",
       "      <th>30</th>\n",
       "      <td>i was home alone with my father. my mother and...</td>\n",
       "      <td>0</td>\n",
       "    </tr>\n",
       "    <tr>\n",
       "      <th>31</th>\n",
       "      <td>a young girl of 12 years was raped by the step...</td>\n",
       "      <td>0</td>\n",
       "    </tr>\n",
       "    <tr>\n",
       "      <th>32</th>\n",
       "      <td>some of the group of boys teases my sister whi...</td>\n",
       "      <td>1</td>\n",
       "    </tr>\n",
       "    <tr>\n",
       "      <th>33</th>\n",
       "      <td>A few years back, I was on a bus form delhi to...</td>\n",
       "      <td>0</td>\n",
       "    </tr>\n",
       "    <tr>\n",
       "      <th>34</th>\n",
       "      <td>I was harassed and ill treated</td>\n",
       "      <td>1</td>\n",
       "    </tr>\n",
       "    <tr>\n",
       "      <th>35</th>\n",
       "      <td>Some guys  were stalking a girl</td>\n",
       "      <td>0</td>\n",
       "    </tr>\n",
       "    <tr>\n",
       "      <th>36</th>\n",
       "      <td>I am 14 year old boy and while returning from ...</td>\n",
       "      <td>0</td>\n",
       "    </tr>\n",
       "    <tr>\n",
       "      <th>37</th>\n",
       "      <td>I had experience while walking in the road.</td>\n",
       "      <td>0</td>\n",
       "    </tr>\n",
       "    <tr>\n",
       "      <th>38</th>\n",
       "      <td>Someone passed a comment near the Hanuman Temple</td>\n",
       "      <td>1</td>\n",
       "    </tr>\n",
       "    <tr>\n",
       "      <th>39</th>\n",
       "      <td>A man thought I was a prostitute and was offer...</td>\n",
       "      <td>1</td>\n",
       "    </tr>\n",
       "    <tr>\n",
       "      <th>40</th>\n",
       "      <td>pupils of st john primary school in silanga ar...</td>\n",
       "      <td>0</td>\n",
       "    </tr>\n",
       "    <tr>\n",
       "      <th>41</th>\n",
       "      <td>I was walking to my car in a deserted parking ...</td>\n",
       "      <td>1</td>\n",
       "    </tr>\n",
       "    <tr>\n",
       "      <th>42</th>\n",
       "      <td>By bus driver while driving scooter shouted an...</td>\n",
       "      <td>0</td>\n",
       "    </tr>\n",
       "    <tr>\n",
       "      <th>43</th>\n",
       "      <td>me and my friend was travelling in the public ...</td>\n",
       "      <td>1</td>\n",
       "    </tr>\n",
       "    <tr>\n",
       "      <th>44</th>\n",
       "      <td>harassed in the afternoon</td>\n",
       "      <td>1</td>\n",
       "    </tr>\n",
       "    <tr>\n",
       "      <th>45</th>\n",
       "      <td>Touching, ogling</td>\n",
       "      <td>0</td>\n",
       "    </tr>\n",
       "    <tr>\n",
       "      <th>46</th>\n",
       "      <td>Chain Snatching, commenting, and ogling in eve...</td>\n",
       "      <td>1</td>\n",
       "    </tr>\n",
       "    <tr>\n",
       "      <th>47</th>\n",
       "      <td>some man whistle my friend when she was going ...</td>\n",
       "      <td>0</td>\n",
       "    </tr>\n",
       "    <tr>\n",
       "      <th>48</th>\n",
       "      <td>Some random guys were clicking pictures of me ...</td>\n",
       "      <td>0</td>\n",
       "    </tr>\n",
       "    <tr>\n",
       "      <th>49</th>\n",
       "      <td>A young girl was influenced by her friends who...</td>\n",
       "      <td>0</td>\n",
       "    </tr>\n",
       "  </tbody>\n",
       "</table>\n",
       "</div>"
      ],
      "text/plain": [
       "                                                 Text  Label\n",
       "0   Buses approaching to this place is highly unsafe.      1\n",
       "1                         a man was commenting at me.      1\n",
       "2                                     in a share auto      0\n",
       "3   I was coming out of a club at night with a few...      1\n",
       "4   One of my friends was molested in the crowd. T...      0\n",
       "5   I was travelling in metro heading to my colleg...      0\n",
       "6   A guy masturbating at the roadside and ogling....      1\n",
       "7   When I was travelling in red line metro , a gu...      0\n",
       "8   Late evening (around 7.30 pm) after shopping i...      0\n",
       "9   For a week in the morning when I found be taki...      1\n",
       "10  It happened in the afternoon in the metro.It w...      1\n",
       "11  some people seemed so friendly,but kept follow...      1\n",
       "12  i know of a girl who was groped in the DDA par...      0\n",
       "13                                         harassment      0\n",
       "14  a girl was passing and some men started callin...      0\n",
       "15                                   self explanatory      0\n",
       "16  A guy usually clicks picture of my friend. It ...      0\n",
       "17  the person took advantage of the crowd while s...      0\n",
       "18  my friend was going to market and one boy comm...      1\n",
       "19  my auto wallah stopped midway and asked us to ...      0\n",
       "20  i was walking upstairs on the bridge in dadar ...      0\n",
       "21                                 it was really bad.      1\n",
       "22  may be i've been studying 6th then when i was ...      0\n",
       "23  It happened with me about 45 years ago. I used...      0\n",
       "24  i was returning home when a group of men start...      1\n",
       "25  a strange looking man followed the victim from...      0\n",
       "26  During evening , I went to visit my friend and...      0\n",
       "27  while i was travelling in the bus with my frie...      1\n",
       "28                                exposing body parts      0\n",
       "29  some boys were teasing me when i was going in ...      1\n",
       "30  i was home alone with my father. my mother and...      0\n",
       "31  a young girl of 12 years was raped by the step...      0\n",
       "32  some of the group of boys teases my sister whi...      1\n",
       "33  A few years back, I was on a bus form delhi to...      0\n",
       "34                     I was harassed and ill treated      1\n",
       "35                    Some guys  were stalking a girl      0\n",
       "36  I am 14 year old boy and while returning from ...      0\n",
       "37        I had experience while walking in the road.      0\n",
       "38   Someone passed a comment near the Hanuman Temple      1\n",
       "39  A man thought I was a prostitute and was offer...      1\n",
       "40  pupils of st john primary school in silanga ar...      0\n",
       "41  I was walking to my car in a deserted parking ...      1\n",
       "42  By bus driver while driving scooter shouted an...      0\n",
       "43  me and my friend was travelling in the public ...      1\n",
       "44                          harassed in the afternoon      1\n",
       "45                                   Touching, ogling      0\n",
       "46  Chain Snatching, commenting, and ogling in eve...      1\n",
       "47  some man whistle my friend when she was going ...      0\n",
       "48  Some random guys were clicking pictures of me ...      0\n",
       "49  A young girl was influenced by her friends who...      0"
      ]
     },
     "execution_count": 85,
     "metadata": {},
     "output_type": "execute_result"
    }
   ],
   "source": [
    "data = pd.read_csv('dev.csv')\n",
    "data.columns = ['Text', 'Label']\n",
    "data.head(50)"
   ]
  },
  {
   "cell_type": "code",
   "execution_count": 63,
   "id": "47ac38c4",
   "metadata": {},
   "outputs": [],
   "source": [
    "np.random.seed(5)"
   ]
  },
  {
   "cell_type": "code",
   "execution_count": 64,
   "id": "240d8022",
   "metadata": {},
   "outputs": [
    {
     "data": {
      "text/plain": [
       "array([1, 0], dtype=int64)"
      ]
     },
     "execution_count": 64,
     "metadata": {},
     "output_type": "execute_result"
    }
   ],
   "source": [
    "data.Label.unique()"
   ]
  },
  {
   "cell_type": "code",
   "execution_count": 65,
   "id": "04fc7a7d",
   "metadata": {},
   "outputs": [
    {
     "data": {
      "text/plain": [
       "(991, 2)"
      ]
     },
     "execution_count": 65,
     "metadata": {},
     "output_type": "execute_result"
    }
   ],
   "source": [
    "data.shape"
   ]
  },
  {
   "cell_type": "code",
   "execution_count": 66,
   "id": "869dc4e3",
   "metadata": {},
   "outputs": [],
   "source": [
    "pos = []\n",
    "neg = []\n",
    "for l in data.Label:\n",
    "    if l == 0:\n",
    "        pos.append(0)\n",
    "        neg.append(1)\n",
    "    elif l == 1:\n",
    "        pos.append(1)\n",
    "        neg.append(0)"
   ]
  },
  {
   "cell_type": "code",
   "execution_count": 67,
   "id": "860f76f5",
   "metadata": {},
   "outputs": [],
   "source": [
    "data['Pos']= pos\n",
    "data['Neg']= neg"
   ]
  },
  {
   "cell_type": "code",
   "execution_count": 68,
   "id": "8236b25a",
   "metadata": {},
   "outputs": [
    {
     "data": {
      "text/html": [
       "<div>\n",
       "<style scoped>\n",
       "    .dataframe tbody tr th:only-of-type {\n",
       "        vertical-align: middle;\n",
       "    }\n",
       "\n",
       "    .dataframe tbody tr th {\n",
       "        vertical-align: top;\n",
       "    }\n",
       "\n",
       "    .dataframe thead th {\n",
       "        text-align: right;\n",
       "    }\n",
       "</style>\n",
       "<table border=\"1\" class=\"dataframe\">\n",
       "  <thead>\n",
       "    <tr style=\"text-align: right;\">\n",
       "      <th></th>\n",
       "      <th>Text</th>\n",
       "      <th>Label</th>\n",
       "      <th>Pos</th>\n",
       "      <th>Neg</th>\n",
       "    </tr>\n",
       "  </thead>\n",
       "  <tbody>\n",
       "    <tr>\n",
       "      <th>0</th>\n",
       "      <td>Buses approaching to this place is highly unsafe.</td>\n",
       "      <td>1</td>\n",
       "      <td>1</td>\n",
       "      <td>0</td>\n",
       "    </tr>\n",
       "    <tr>\n",
       "      <th>1</th>\n",
       "      <td>a man was commenting at me.</td>\n",
       "      <td>1</td>\n",
       "      <td>1</td>\n",
       "      <td>0</td>\n",
       "    </tr>\n",
       "    <tr>\n",
       "      <th>2</th>\n",
       "      <td>in a share auto</td>\n",
       "      <td>0</td>\n",
       "      <td>0</td>\n",
       "      <td>1</td>\n",
       "    </tr>\n",
       "    <tr>\n",
       "      <th>3</th>\n",
       "      <td>I was coming out of a club at night with a few...</td>\n",
       "      <td>1</td>\n",
       "      <td>1</td>\n",
       "      <td>0</td>\n",
       "    </tr>\n",
       "    <tr>\n",
       "      <th>4</th>\n",
       "      <td>One of my friends was molested in the crowd. T...</td>\n",
       "      <td>0</td>\n",
       "      <td>0</td>\n",
       "      <td>1</td>\n",
       "    </tr>\n",
       "  </tbody>\n",
       "</table>\n",
       "</div>"
      ],
      "text/plain": [
       "                                                Text  Label  Pos  Neg\n",
       "0  Buses approaching to this place is highly unsafe.      1    1    0\n",
       "1                        a man was commenting at me.      1    1    0\n",
       "2                                    in a share auto      0    0    1\n",
       "3  I was coming out of a club at night with a few...      1    1    0\n",
       "4  One of my friends was molested in the crowd. T...      0    0    1"
      ]
     },
     "execution_count": 68,
     "metadata": {},
     "output_type": "execute_result"
    }
   ],
   "source": [
    "data.head()"
   ]
  },
  {
   "cell_type": "markdown",
   "id": "0a813ca5",
   "metadata": {},
   "source": [
    "# Cleaning the data"
   ]
  },
  {
   "cell_type": "code",
   "execution_count": 69,
   "id": "331f425b",
   "metadata": {},
   "outputs": [],
   "source": [
    "def remove_punct(text):\n",
    "    text_nopunct = ''\n",
    "    text_nopunct = re.sub('['+string.punctuation+']', '', text)\n",
    "    return text_nopunct\n",
    "\n",
    "data['Text_Clean'] = data['Text'].apply(lambda x: remove_punct(x))"
   ]
  },
  {
   "cell_type": "code",
   "execution_count": 70,
   "id": "ce80606e",
   "metadata": {},
   "outputs": [],
   "source": [
    "from nltk import word_tokenize, WordNetLemmatizer\n",
    "tokens = [word_tokenize(sen) for sen in data.Text_Clean] "
   ]
  },
  {
   "cell_type": "code",
   "execution_count": 71,
   "id": "ff65f9d6",
   "metadata": {},
   "outputs": [],
   "source": [
    "def lower_token(tokens): \n",
    "    return [w.lower() for w in tokens]  \n",
    "lower_tokens = [lower_token(token) for token in tokens] "
   ]
  },
  {
   "cell_type": "code",
   "execution_count": 72,
   "id": "54b9e71d",
   "metadata": {},
   "outputs": [],
   "source": [
    "from nltk.corpus import stopwords\n",
    "stoplist = stopwords.words('english')"
   ]
  },
  {
   "cell_type": "code",
   "execution_count": 73,
   "id": "d4ec2416",
   "metadata": {},
   "outputs": [],
   "source": [
    "def remove_stop_words(tokens): \n",
    "    return [word for word in tokens if word not in stoplist]"
   ]
  },
  {
   "cell_type": "code",
   "execution_count": 74,
   "id": "bc408d71",
   "metadata": {},
   "outputs": [],
   "source": [
    "filtered_words = [remove_stop_words(sen) for sen in lower_tokens] "
   ]
  },
  {
   "cell_type": "code",
   "execution_count": 75,
   "id": "e16a2eb9",
   "metadata": {},
   "outputs": [],
   "source": [
    "result = [' '.join(sen) for sen in filtered_words] "
   ]
  },
  {
   "cell_type": "code",
   "execution_count": 76,
   "id": "26fa7dab",
   "metadata": {},
   "outputs": [],
   "source": [
    "data['Text_Final'] = result"
   ]
  },
  {
   "cell_type": "code",
   "execution_count": 77,
   "id": "b6f97bf1",
   "metadata": {},
   "outputs": [],
   "source": [
    "data['tokens'] = filtered_words"
   ]
  },
  {
   "cell_type": "code",
   "execution_count": 78,
   "id": "4917508d",
   "metadata": {},
   "outputs": [],
   "source": [
    "data = data[['Text_Final', 'tokens', 'Label', 'Pos', 'Neg']]"
   ]
  },
  {
   "cell_type": "code",
   "execution_count": 79,
   "id": "973d2f56",
   "metadata": {},
   "outputs": [
    {
     "data": {
      "text/html": [
       "<div>\n",
       "<style scoped>\n",
       "    .dataframe tbody tr th:only-of-type {\n",
       "        vertical-align: middle;\n",
       "    }\n",
       "\n",
       "    .dataframe tbody tr th {\n",
       "        vertical-align: top;\n",
       "    }\n",
       "\n",
       "    .dataframe thead th {\n",
       "        text-align: right;\n",
       "    }\n",
       "</style>\n",
       "<table border=\"1\" class=\"dataframe\">\n",
       "  <thead>\n",
       "    <tr style=\"text-align: right;\">\n",
       "      <th></th>\n",
       "      <th>Text_Final</th>\n",
       "      <th>tokens</th>\n",
       "      <th>Label</th>\n",
       "      <th>Pos</th>\n",
       "      <th>Neg</th>\n",
       "    </tr>\n",
       "  </thead>\n",
       "  <tbody>\n",
       "    <tr>\n",
       "      <th>0</th>\n",
       "      <td>buses approaching place highly unsafe</td>\n",
       "      <td>[buses, approaching, place, highly, unsafe]</td>\n",
       "      <td>1</td>\n",
       "      <td>1</td>\n",
       "      <td>0</td>\n",
       "    </tr>\n",
       "    <tr>\n",
       "      <th>1</th>\n",
       "      <td>man commenting</td>\n",
       "      <td>[man, commenting]</td>\n",
       "      <td>1</td>\n",
       "      <td>1</td>\n",
       "      <td>0</td>\n",
       "    </tr>\n",
       "    <tr>\n",
       "      <th>2</th>\n",
       "      <td>share auto</td>\n",
       "      <td>[share, auto]</td>\n",
       "      <td>0</td>\n",
       "      <td>0</td>\n",
       "      <td>1</td>\n",
       "    </tr>\n",
       "    <tr>\n",
       "      <th>3</th>\n",
       "      <td>coming club night friends guys came stopped us...</td>\n",
       "      <td>[coming, club, night, friends, guys, came, sto...</td>\n",
       "      <td>1</td>\n",
       "      <td>1</td>\n",
       "      <td>0</td>\n",
       "    </tr>\n",
       "  </tbody>\n",
       "</table>\n",
       "</div>"
      ],
      "text/plain": [
       "                                          Text_Final  \\\n",
       "0              buses approaching place highly unsafe   \n",
       "1                                     man commenting   \n",
       "2                                         share auto   \n",
       "3  coming club night friends guys came stopped us...   \n",
       "\n",
       "                                              tokens  Label  Pos  Neg  \n",
       "0        [buses, approaching, place, highly, unsafe]      1    1    0  \n",
       "1                                  [man, commenting]      1    1    0  \n",
       "2                                      [share, auto]      0    0    1  \n",
       "3  [coming, club, night, friends, guys, came, sto...      1    1    0  "
      ]
     },
     "execution_count": 79,
     "metadata": {},
     "output_type": "execute_result"
    }
   ],
   "source": [
    "data[:4]"
   ]
  },
  {
   "cell_type": "markdown",
   "id": "2b97f205",
   "metadata": {},
   "source": [
    "# Split data into test and train"
   ]
  },
  {
   "cell_type": "code",
   "execution_count": 80,
   "id": "d8cf9de0",
   "metadata": {},
   "outputs": [],
   "source": [
    "data_train, data_test = train_test_split(data, test_size=500, random_state=42)\n",
    "\n"
   ]
  },
  {
   "cell_type": "code",
   "execution_count": 81,
   "id": "9eb1ec7a",
   "metadata": {},
   "outputs": [
    {
     "name": "stdout",
     "output_type": "stream",
     "text": [
      "5290 words total, with a vocabulary size of 1753\n",
      "Max sentence length is 102\n"
     ]
    }
   ],
   "source": [
    "all_training_words = [word for tokens in data_train[\"tokens\"] for word in tokens]\n",
    "training_sentence_lengths = [len(tokens) for tokens in data_train[\"tokens\"]]\n",
    "TRAINING_VOCAB = sorted(list(set(all_training_words)))\n",
    "print(\"%s words total, with a vocabulary size of %s\" % (len(all_training_words), len(TRAINING_VOCAB)))\n",
    "print(\"Max sentence length is %s\" % max(training_sentence_lengths))"
   ]
  },
  {
   "cell_type": "code",
   "execution_count": 82,
   "id": "b7142254",
   "metadata": {},
   "outputs": [
    {
     "name": "stdout",
     "output_type": "stream",
     "text": [
      "5473 words total, with a vocabulary size of 1816\n",
      "Max sentence length is 116\n"
     ]
    }
   ],
   "source": [
    "all_test_words = [word for tokens in data_test[\"tokens\"] for word in tokens]\n",
    "test_sentence_lengths = [len(tokens) for tokens in data_test[\"tokens\"]]\n",
    "TEST_VOCAB = sorted(list(set(all_test_words)))\n",
    "print(\"%s words total, with a vocabulary size of %s\" % (len(all_test_words), len(TEST_VOCAB)))\n",
    "print(\"Max sentence length is %s\" % max(test_sentence_lengths))"
   ]
  },
  {
   "cell_type": "markdown",
   "id": "a0920c1c",
   "metadata": {},
   "source": [
    "# Load Google News Word2Vec model"
   ]
  },
  {
   "cell_type": "code",
   "execution_count": 83,
   "id": "84581768",
   "metadata": {},
   "outputs": [
    {
     "ename": "AttributeError",
     "evalue": "module 'keras.models' has no attribute 'KeyedVectors'",
     "output_type": "error",
     "traceback": [
      "\u001b[1;31m---------------------------------------------------------------------------\u001b[0m",
      "\u001b[1;31mAttributeError\u001b[0m                            Traceback (most recent call last)",
      "\u001b[1;32m~\\AppData\\Local\\Temp/ipykernel_17808/2043734045.py\u001b[0m in \u001b[0;36m<module>\u001b[1;34m\u001b[0m\n\u001b[0;32m      1\u001b[0m \u001b[0mword2vec_path\u001b[0m \u001b[1;33m=\u001b[0m \u001b[1;34m'GoogleNews-vectors-negative300.bin.gz'\u001b[0m\u001b[1;33m\u001b[0m\u001b[1;33m\u001b[0m\u001b[0m\n\u001b[1;32m----> 2\u001b[1;33m \u001b[0mword2vec\u001b[0m \u001b[1;33m=\u001b[0m \u001b[0mmodels\u001b[0m\u001b[1;33m.\u001b[0m\u001b[0mKeyedVectors\u001b[0m\u001b[1;33m.\u001b[0m\u001b[0mload_word2vec_format\u001b[0m\u001b[1;33m(\u001b[0m\u001b[0mword2vec_path\u001b[0m\u001b[1;33m,\u001b[0m \u001b[0mbinary\u001b[0m\u001b[1;33m=\u001b[0m\u001b[1;32mTrue\u001b[0m\u001b[1;33m)\u001b[0m\u001b[1;33m\u001b[0m\u001b[1;33m\u001b[0m\u001b[0m\n\u001b[0m",
      "\u001b[1;31mAttributeError\u001b[0m: module 'keras.models' has no attribute 'KeyedVectors'"
     ]
    }
   ],
   "source": [
    "word2vec_path = 'GoogleNews-vectors-negative300.bin.gz'\n",
    "word2vec = models.KeyedVectors.load_word2vec_format(word2vec_path, binary=True)"
   ]
  },
  {
   "cell_type": "code",
   "execution_count": 23,
   "id": "9182cca8",
   "metadata": {},
   "outputs": [],
   "source": [
    "def get_average_word2vec(tokens_list, vector, generate_missing=False, k=300):\n",
    "    if len(tokens_list)<1:\n",
    "        return np.zeros(k)\n",
    "    if generate_missing:\n",
    "        vectorized = [vector[word] if word in vector else np.random.rand(k) for word in tokens_list]\n",
    "    else:\n",
    "        vectorized = [vector[word] if word in vector else np.zeros(k) for word in tokens_list]\n",
    "    length = len(vectorized)\n",
    "    summed = np.sum(vectorized, axis=0)\n",
    "    averaged = np.divide(summed, length)\n",
    "    return averaged"
   ]
  },
  {
   "cell_type": "code",
   "execution_count": 24,
   "id": "3e6c365d",
   "metadata": {},
   "outputs": [],
   "source": [
    "def get_word2vec_embeddings(vectors, clean_comments, generate_missing=False):\n",
    "    embeddings = clean_comments['tokens'].apply(lambda x: get_average_word2vec(x, vectors, \n",
    "                                                                                generate_missing=generate_missing))\n",
    "    return list(embeddings)"
   ]
  },
  {
   "cell_type": "markdown",
   "id": "6a58807a",
   "metadata": {},
   "source": [
    "# Get Embeddings"
   ]
  },
  {
   "cell_type": "code",
   "execution_count": 25,
   "id": "ef58cd60",
   "metadata": {},
   "outputs": [],
   "source": [
    "training_embeddings = get_word2vec_embeddings(word2vec, data_train, generate_missing=True)"
   ]
  },
  {
   "cell_type": "code",
   "execution_count": 26,
   "id": "c768262f",
   "metadata": {},
   "outputs": [],
   "source": [
    "MAX_SEQUENCE_LENGTH = 50\n",
    "EMBEDDING_DIM = 300"
   ]
  },
  {
   "cell_type": "markdown",
   "id": "f041dbdf",
   "metadata": {},
   "source": [
    "# Tokenize and Pad Sequences"
   ]
  },
  {
   "cell_type": "code",
   "execution_count": 27,
   "id": "ac0a4c61",
   "metadata": {},
   "outputs": [
    {
     "name": "stdout",
     "output_type": "stream",
     "text": [
      "Found 2634 unique tokens.\n"
     ]
    }
   ],
   "source": [
    "tokenizer = Tokenizer(num_words=len(TRAINING_VOCAB), lower=True, char_level=False)\n",
    "tokenizer.fit_on_texts(data_train[\"Text_Final\"].tolist())\n",
    "training_sequences = tokenizer.texts_to_sequences(data_train[\"Text_Final\"].tolist())\n",
    "\n",
    "train_word_index = tokenizer.word_index\n",
    "print('Found %s unique tokens.' % len(train_word_index))"
   ]
  },
  {
   "cell_type": "code",
   "execution_count": 28,
   "id": "a55b0f6d",
   "metadata": {},
   "outputs": [],
   "source": [
    "train_cnn_data = pad_sequences(training_sequences, maxlen=MAX_SEQUENCE_LENGTH)"
   ]
  },
  {
   "cell_type": "code",
   "execution_count": 29,
   "id": "e5512b78",
   "metadata": {},
   "outputs": [
    {
     "name": "stdout",
     "output_type": "stream",
     "text": [
      "(2635, 300)\n"
     ]
    }
   ],
   "source": [
    "train_embedding_weights = np.zeros((len(train_word_index)+1, EMBEDDING_DIM))\n",
    "for word,index in train_word_index.items():\n",
    "    train_embedding_weights[index,:] = word2vec[word] if word in word2vec else np.random.rand(EMBEDDING_DIM)\n",
    "print(train_embedding_weights.shape)"
   ]
  },
  {
   "cell_type": "code",
   "execution_count": 30,
   "id": "25909f67",
   "metadata": {},
   "outputs": [],
   "source": [
    "test_sequences = tokenizer.texts_to_sequences(data_test[\"Text_Final\"].tolist())\n",
    "test_cnn_data = pad_sequences(test_sequences, maxlen=MAX_SEQUENCE_LENGTH)"
   ]
  },
  {
   "cell_type": "code",
   "execution_count": null,
   "id": "2eb39788",
   "metadata": {},
   "outputs": [],
   "source": []
  },
  {
   "cell_type": "code",
   "execution_count": null,
   "id": "b43e5eb1",
   "metadata": {},
   "outputs": [],
   "source": []
  },
  {
   "cell_type": "markdown",
   "id": "748be391",
   "metadata": {},
   "source": [
    "# Define CNN"
   ]
  },
  {
   "cell_type": "code",
   "execution_count": 31,
   "id": "22eb7d06",
   "metadata": {},
   "outputs": [],
   "source": [
    "def ConvNet(embeddings, max_sequence_length, num_words, embedding_dim, labels_index):\n",
    "    \n",
    "    embedding_layer = Embedding(num_words,\n",
    "                            embedding_dim,\n",
    "                            weights=[embeddings],\n",
    "                            input_length=max_sequence_length,\n",
    "                            trainable=False)\n",
    "    \n",
    "    sequence_input = Input(shape=(max_sequence_length,), dtype='int32')\n",
    "    embedded_sequences = embedding_layer(sequence_input)\n",
    "\n",
    "    convs = []\n",
    "    filter_sizes = [2,3,4,5,6]\n",
    "\n",
    "    for filter_size in filter_sizes:\n",
    "        l_conv = Conv1D(filters=200, kernel_size=filter_size, activation='relu')(embedded_sequences)\n",
    "        l_pool = GlobalMaxPooling1D()(l_conv)\n",
    "        convs.append(l_pool)\n",
    "\n",
    "\n",
    "    l_merge = concatenate(convs, axis=1)\n",
    "\n",
    "    x = Dropout(0.1)(l_merge)  \n",
    "    x = Dense(128, activation='relu')(x)\n",
    "    x = Dropout(0.2)(x)\n",
    "    preds = Dense(labels_index, activation='sigmoid')(x)\n",
    "\n",
    "    model = Model(sequence_input, preds)\n",
    "    model.compile(loss='binary_crossentropy',\n",
    "                  optimizer='adam',\n",
    "                  metrics=['acc'])\n",
    "    model.summary()\n",
    "    return model"
   ]
  },
  {
   "cell_type": "code",
   "execution_count": 32,
   "id": "5dc64500",
   "metadata": {},
   "outputs": [],
   "source": [
    "label_names = ['Pos', 'Neg']"
   ]
  },
  {
   "cell_type": "code",
   "execution_count": 33,
   "id": "f9642407",
   "metadata": {},
   "outputs": [],
   "source": [
    "y_train = data_train[label_names].values"
   ]
  },
  {
   "cell_type": "code",
   "execution_count": 34,
   "id": "25682e05",
   "metadata": {},
   "outputs": [],
   "source": [
    "x_train = train_cnn_data\n",
    "y_tr = y_train"
   ]
  },
  {
   "cell_type": "code",
   "execution_count": 35,
   "id": "c9005250",
   "metadata": {},
   "outputs": [
    {
     "name": "stdout",
     "output_type": "stream",
     "text": [
      "Model: \"model\"\n",
      "__________________________________________________________________________________________________\n",
      " Layer (type)                   Output Shape         Param #     Connected to                     \n",
      "==================================================================================================\n",
      " input_1 (InputLayer)           [(None, 50)]         0           []                               \n",
      "                                                                                                  \n",
      " embedding (Embedding)          (None, 50, 300)      790500      ['input_1[0][0]']                \n",
      "                                                                                                  \n",
      " conv1d (Conv1D)                (None, 49, 200)      120200      ['embedding[0][0]']              \n",
      "                                                                                                  \n",
      " conv1d_1 (Conv1D)              (None, 48, 200)      180200      ['embedding[0][0]']              \n",
      "                                                                                                  \n",
      " conv1d_2 (Conv1D)              (None, 47, 200)      240200      ['embedding[0][0]']              \n",
      "                                                                                                  \n",
      " conv1d_3 (Conv1D)              (None, 46, 200)      300200      ['embedding[0][0]']              \n",
      "                                                                                                  \n",
      " conv1d_4 (Conv1D)              (None, 45, 200)      360200      ['embedding[0][0]']              \n",
      "                                                                                                  \n",
      " global_max_pooling1d (GlobalMa  (None, 200)         0           ['conv1d[0][0]']                 \n",
      " xPooling1D)                                                                                      \n",
      "                                                                                                  \n",
      " global_max_pooling1d_1 (Global  (None, 200)         0           ['conv1d_1[0][0]']               \n",
      " MaxPooling1D)                                                                                    \n",
      "                                                                                                  \n",
      " global_max_pooling1d_2 (Global  (None, 200)         0           ['conv1d_2[0][0]']               \n",
      " MaxPooling1D)                                                                                    \n",
      "                                                                                                  \n",
      " global_max_pooling1d_3 (Global  (None, 200)         0           ['conv1d_3[0][0]']               \n",
      " MaxPooling1D)                                                                                    \n",
      "                                                                                                  \n",
      " global_max_pooling1d_4 (Global  (None, 200)         0           ['conv1d_4[0][0]']               \n",
      " MaxPooling1D)                                                                                    \n",
      "                                                                                                  \n",
      " concatenate (Concatenate)      (None, 1000)         0           ['global_max_pooling1d[0][0]',   \n",
      "                                                                  'global_max_pooling1d_1[0][0]', \n",
      "                                                                  'global_max_pooling1d_2[0][0]', \n",
      "                                                                  'global_max_pooling1d_3[0][0]', \n",
      "                                                                  'global_max_pooling1d_4[0][0]'] \n",
      "                                                                                                  \n",
      " dropout (Dropout)              (None, 1000)         0           ['concatenate[0][0]']            \n",
      "                                                                                                  \n",
      " dense (Dense)                  (None, 128)          128128      ['dropout[0][0]']                \n",
      "                                                                                                  \n",
      " dropout_1 (Dropout)            (None, 128)          0           ['dense[0][0]']                  \n",
      "                                                                                                  \n",
      " dense_1 (Dense)                (None, 2)            258         ['dropout_1[0][0]']              \n",
      "                                                                                                  \n",
      "==================================================================================================\n",
      "Total params: 2,119,886\n",
      "Trainable params: 1,329,386\n",
      "Non-trainable params: 790,500\n",
      "__________________________________________________________________________________________________\n"
     ]
    }
   ],
   "source": [
    "model = ConvNet(train_embedding_weights, MAX_SEQUENCE_LENGTH, len(train_word_index)+1, EMBEDDING_DIM, \n",
    "                len(list(label_names)))"
   ]
  },
  {
   "cell_type": "markdown",
   "id": "256b69f8",
   "metadata": {},
   "source": [
    "# Train CNN"
   ]
  },
  {
   "cell_type": "code",
   "execution_count": 36,
   "id": "7be2f8cb",
   "metadata": {},
   "outputs": [],
   "source": [
    "num_epochs = 200\n",
    "batch_size = 40"
   ]
  },
  {
   "cell_type": "code",
   "execution_count": 37,
   "id": "d9529025",
   "metadata": {},
   "outputs": [
    {
     "name": "stdout",
     "output_type": "stream",
     "text": [
      "Epoch 1/200\n",
      "21/21 [==============================] - 2s 46ms/step - loss: 0.6836 - acc: 0.6005 - val_loss: 0.6000 - val_acc: 0.7111\n",
      "Epoch 2/200\n",
      "21/21 [==============================] - 1s 36ms/step - loss: 0.5152 - acc: 0.7628 - val_loss: 0.5484 - val_acc: 0.7667\n",
      "Epoch 3/200\n",
      "21/21 [==============================] - 1s 36ms/step - loss: 0.4140 - acc: 0.8177 - val_loss: 0.5658 - val_acc: 0.7667\n",
      "Epoch 4/200\n",
      "21/21 [==============================] - 1s 36ms/step - loss: 0.2958 - acc: 0.8777 - val_loss: 0.5645 - val_acc: 0.7667\n",
      "Epoch 5/200\n",
      "21/21 [==============================] - 1s 36ms/step - loss: 0.1768 - acc: 0.9463 - val_loss: 0.5804 - val_acc: 0.8000\n",
      "Epoch 6/200\n",
      "21/21 [==============================] - 1s 37ms/step - loss: 0.1276 - acc: 0.9650 - val_loss: 0.6549 - val_acc: 0.7778\n",
      "Epoch 7/200\n",
      "21/21 [==============================] - 1s 36ms/step - loss: 0.0788 - acc: 0.9800 - val_loss: 0.8435 - val_acc: 0.6778\n",
      "Epoch 8/200\n",
      "21/21 [==============================] - 1s 36ms/step - loss: 0.1042 - acc: 0.9613 - val_loss: 0.7282 - val_acc: 0.7667\n",
      "Epoch 9/200\n",
      "21/21 [==============================] - 1s 36ms/step - loss: 0.0985 - acc: 0.9650 - val_loss: 0.6629 - val_acc: 0.7778\n",
      "Epoch 10/200\n",
      "21/21 [==============================] - 1s 37ms/step - loss: 0.0626 - acc: 0.9800 - val_loss: 0.7164 - val_acc: 0.7778\n",
      "Epoch 11/200\n",
      "21/21 [==============================] - 1s 36ms/step - loss: 0.0629 - acc: 0.9838 - val_loss: 0.8369 - val_acc: 0.7667\n",
      "Epoch 12/200\n",
      "21/21 [==============================] - 1s 36ms/step - loss: 0.0533 - acc: 0.9838 - val_loss: 0.7987 - val_acc: 0.7667\n",
      "Epoch 13/200\n",
      "21/21 [==============================] - 1s 36ms/step - loss: 0.0461 - acc: 0.9838 - val_loss: 0.8361 - val_acc: 0.7778\n",
      "Epoch 14/200\n",
      "21/21 [==============================] - 1s 36ms/step - loss: 0.0442 - acc: 0.9838 - val_loss: 0.7716 - val_acc: 0.7889\n",
      "Epoch 15/200\n",
      "21/21 [==============================] - 1s 36ms/step - loss: 0.0415 - acc: 0.9813 - val_loss: 0.8327 - val_acc: 0.7889\n",
      "Epoch 16/200\n",
      "21/21 [==============================] - 1s 36ms/step - loss: 0.0413 - acc: 0.9838 - val_loss: 0.9702 - val_acc: 0.7778\n",
      "Epoch 17/200\n",
      "21/21 [==============================] - 1s 36ms/step - loss: 0.0422 - acc: 0.9838 - val_loss: 0.8450 - val_acc: 0.7889\n",
      "Epoch 18/200\n",
      "21/21 [==============================] - 1s 37ms/step - loss: 0.0349 - acc: 0.9838 - val_loss: 0.8136 - val_acc: 0.8000\n",
      "Epoch 19/200\n",
      "21/21 [==============================] - 1s 37ms/step - loss: 0.0354 - acc: 0.9850 - val_loss: 1.0512 - val_acc: 0.7778\n",
      "Epoch 20/200\n",
      "21/21 [==============================] - 1s 40ms/step - loss: 0.0350 - acc: 0.9838 - val_loss: 0.8439 - val_acc: 0.8000\n",
      "Epoch 21/200\n",
      "21/21 [==============================] - 1s 43ms/step - loss: 0.0382 - acc: 0.9838 - val_loss: 1.0221 - val_acc: 0.7778\n",
      "Epoch 22/200\n",
      "21/21 [==============================] - 1s 38ms/step - loss: 0.0382 - acc: 0.9800 - val_loss: 0.9375 - val_acc: 0.8000\n",
      "Epoch 23/200\n",
      "21/21 [==============================] - 1s 45ms/step - loss: 0.0333 - acc: 0.9850 - val_loss: 0.9800 - val_acc: 0.7778\n",
      "Epoch 24/200\n",
      "21/21 [==============================] - 1s 45ms/step - loss: 0.0328 - acc: 0.9838 - val_loss: 0.9267 - val_acc: 0.8000\n",
      "Epoch 25/200\n",
      "21/21 [==============================] - 1s 39ms/step - loss: 0.0375 - acc: 0.9838 - val_loss: 1.2822 - val_acc: 0.7778\n",
      "Epoch 26/200\n",
      "21/21 [==============================] - 1s 40ms/step - loss: 0.0398 - acc: 0.9850 - val_loss: 0.9111 - val_acc: 0.7889\n",
      "Epoch 27/200\n",
      "21/21 [==============================] - 1s 39ms/step - loss: 0.0355 - acc: 0.9825 - val_loss: 0.9149 - val_acc: 0.7889\n",
      "Epoch 28/200\n",
      "21/21 [==============================] - 1s 39ms/step - loss: 0.0321 - acc: 0.9863 - val_loss: 1.0573 - val_acc: 0.7778\n",
      "Epoch 29/200\n",
      "21/21 [==============================] - 1s 36ms/step - loss: 0.0314 - acc: 0.9850 - val_loss: 1.0656 - val_acc: 0.7778\n",
      "Epoch 30/200\n",
      "21/21 [==============================] - 1s 35ms/step - loss: 0.0321 - acc: 0.9850 - val_loss: 0.9687 - val_acc: 0.7778\n",
      "Epoch 31/200\n",
      "21/21 [==============================] - 1s 37ms/step - loss: 0.0338 - acc: 0.9838 - val_loss: 0.9576 - val_acc: 0.7889\n",
      "Epoch 32/200\n",
      "21/21 [==============================] - 1s 37ms/step - loss: 0.0320 - acc: 0.9838 - val_loss: 1.0794 - val_acc: 0.7778\n",
      "Epoch 33/200\n",
      "21/21 [==============================] - 1s 41ms/step - loss: 0.0311 - acc: 0.9825 - val_loss: 1.1194 - val_acc: 0.7667\n",
      "Epoch 34/200\n",
      "21/21 [==============================] - 1s 42ms/step - loss: 0.0322 - acc: 0.9838 - val_loss: 1.0031 - val_acc: 0.7778\n",
      "Epoch 35/200\n",
      "21/21 [==============================] - 1s 44ms/step - loss: 0.0431 - acc: 0.9825 - val_loss: 1.3824 - val_acc: 0.7778\n",
      "Epoch 36/200\n",
      "21/21 [==============================] - 1s 38ms/step - loss: 0.0496 - acc: 0.9838 - val_loss: 1.0101 - val_acc: 0.7667\n",
      "Epoch 37/200\n",
      "21/21 [==============================] - 1s 37ms/step - loss: 0.0379 - acc: 0.9838 - val_loss: 1.0169 - val_acc: 0.7889\n",
      "Epoch 38/200\n",
      "21/21 [==============================] - 1s 40ms/step - loss: 0.0307 - acc: 0.9863 - val_loss: 1.0536 - val_acc: 0.7778\n",
      "Epoch 39/200\n",
      "21/21 [==============================] - 1s 43ms/step - loss: 0.0326 - acc: 0.9850 - val_loss: 1.0417 - val_acc: 0.7889\n",
      "Epoch 40/200\n",
      "21/21 [==============================] - 1s 41ms/step - loss: 0.0297 - acc: 0.9863 - val_loss: 1.1251 - val_acc: 0.7889\n",
      "Epoch 41/200\n",
      "21/21 [==============================] - 1s 38ms/step - loss: 0.0305 - acc: 0.9838 - val_loss: 1.1255 - val_acc: 0.7889\n",
      "Epoch 42/200\n",
      "21/21 [==============================] - 1s 38ms/step - loss: 0.0327 - acc: 0.9813 - val_loss: 1.1022 - val_acc: 0.7889\n",
      "Epoch 43/200\n",
      "21/21 [==============================] - 1s 39ms/step - loss: 0.0298 - acc: 0.9875 - val_loss: 1.1072 - val_acc: 0.7889\n",
      "Epoch 44/200\n",
      "21/21 [==============================] - 1s 38ms/step - loss: 0.0295 - acc: 0.9863 - val_loss: 1.1340 - val_acc: 0.7889\n",
      "Epoch 45/200\n",
      "21/21 [==============================] - 1s 38ms/step - loss: 0.0286 - acc: 0.9850 - val_loss: 1.0586 - val_acc: 0.7778\n",
      "Epoch 46/200\n",
      "21/21 [==============================] - 1s 38ms/step - loss: 0.0320 - acc: 0.9850 - val_loss: 1.2578 - val_acc: 0.7778\n",
      "Epoch 47/200\n",
      "21/21 [==============================] - 1s 38ms/step - loss: 0.0301 - acc: 0.9863 - val_loss: 1.1239 - val_acc: 0.7778\n",
      "Epoch 48/200\n",
      "21/21 [==============================] - 1s 37ms/step - loss: 0.0306 - acc: 0.9813 - val_loss: 1.1372 - val_acc: 0.7778\n",
      "Epoch 49/200\n",
      "21/21 [==============================] - 1s 38ms/step - loss: 0.0311 - acc: 0.9838 - val_loss: 1.1233 - val_acc: 0.7778\n",
      "Epoch 50/200\n",
      "21/21 [==============================] - 1s 38ms/step - loss: 0.0440 - acc: 0.9863 - val_loss: 1.2267 - val_acc: 0.7778\n",
      "Epoch 51/200\n",
      "21/21 [==============================] - 1s 39ms/step - loss: 0.0406 - acc: 0.9838 - val_loss: 1.0044 - val_acc: 0.7778\n",
      "Epoch 52/200\n",
      "21/21 [==============================] - 1s 38ms/step - loss: 0.0342 - acc: 0.9850 - val_loss: 1.2562 - val_acc: 0.7778\n",
      "Epoch 53/200\n",
      "21/21 [==============================] - 1s 40ms/step - loss: 0.0326 - acc: 0.9850 - val_loss: 1.1219 - val_acc: 0.7778\n",
      "Epoch 54/200\n",
      "21/21 [==============================] - 1s 39ms/step - loss: 0.0319 - acc: 0.9863 - val_loss: 1.1114 - val_acc: 0.7778\n",
      "Epoch 55/200\n",
      "21/21 [==============================] - 1s 38ms/step - loss: 0.0304 - acc: 0.9850 - val_loss: 1.0986 - val_acc: 0.7778\n",
      "Epoch 56/200\n",
      "21/21 [==============================] - 1s 40ms/step - loss: 0.0314 - acc: 0.9850 - val_loss: 1.1062 - val_acc: 0.7778\n",
      "Epoch 57/200\n",
      "21/21 [==============================] - 1s 38ms/step - loss: 0.0296 - acc: 0.9838 - val_loss: 1.2080 - val_acc: 0.7889\n",
      "Epoch 58/200\n",
      "21/21 [==============================] - 1s 38ms/step - loss: 0.0285 - acc: 0.9838 - val_loss: 1.1636 - val_acc: 0.7889\n",
      "Epoch 59/200\n",
      "21/21 [==============================] - 1s 39ms/step - loss: 0.0293 - acc: 0.9838 - val_loss: 1.1705 - val_acc: 0.7889\n",
      "Epoch 60/200\n",
      "21/21 [==============================] - 1s 37ms/step - loss: 0.0289 - acc: 0.9863 - val_loss: 1.2015 - val_acc: 0.7889\n",
      "Epoch 61/200\n",
      "21/21 [==============================] - 1s 40ms/step - loss: 0.0293 - acc: 0.9875 - val_loss: 1.1849 - val_acc: 0.7778\n",
      "Epoch 62/200\n"
     ]
    },
    {
     "name": "stdout",
     "output_type": "stream",
     "text": [
      "21/21 [==============================] - 1s 45ms/step - loss: 0.0302 - acc: 0.9850 - val_loss: 1.2549 - val_acc: 0.7889\n",
      "Epoch 63/200\n",
      "21/21 [==============================] - 1s 50ms/step - loss: 0.0289 - acc: 0.9850 - val_loss: 1.2037 - val_acc: 0.7778\n",
      "Epoch 64/200\n",
      "21/21 [==============================] - 1s 43ms/step - loss: 0.0291 - acc: 0.9863 - val_loss: 1.2401 - val_acc: 0.7778\n",
      "Epoch 65/200\n",
      "21/21 [==============================] - 1s 40ms/step - loss: 0.0284 - acc: 0.9850 - val_loss: 1.2653 - val_acc: 0.7889\n",
      "Epoch 66/200\n",
      "21/21 [==============================] - 1s 41ms/step - loss: 0.0292 - acc: 0.9875 - val_loss: 1.2353 - val_acc: 0.7778\n",
      "Epoch 67/200\n",
      "21/21 [==============================] - 1s 42ms/step - loss: 0.0299 - acc: 0.9850 - val_loss: 1.3106 - val_acc: 0.7889\n",
      "Epoch 68/200\n",
      "21/21 [==============================] - 1s 40ms/step - loss: 0.0280 - acc: 0.9863 - val_loss: 1.2562 - val_acc: 0.7778\n",
      "Epoch 69/200\n",
      "21/21 [==============================] - 1s 38ms/step - loss: 0.0273 - acc: 0.9863 - val_loss: 1.3209 - val_acc: 0.7889\n",
      "Epoch 70/200\n",
      "21/21 [==============================] - 1s 37ms/step - loss: 0.0286 - acc: 0.9863 - val_loss: 1.2416 - val_acc: 0.7778\n",
      "Epoch 71/200\n",
      "21/21 [==============================] - 1s 37ms/step - loss: 0.0302 - acc: 0.9850 - val_loss: 1.3822 - val_acc: 0.7889\n",
      "Epoch 72/200\n",
      "21/21 [==============================] - 1s 36ms/step - loss: 0.0294 - acc: 0.9850 - val_loss: 1.3166 - val_acc: 0.7778\n",
      "Epoch 73/200\n",
      "21/21 [==============================] - 1s 37ms/step - loss: 0.0286 - acc: 0.9838 - val_loss: 1.3055 - val_acc: 0.7778\n",
      "Epoch 74/200\n",
      "21/21 [==============================] - 1s 35ms/step - loss: 0.0281 - acc: 0.9875 - val_loss: 1.3088 - val_acc: 0.7778\n",
      "Epoch 75/200\n",
      "21/21 [==============================] - 1s 36ms/step - loss: 0.0292 - acc: 0.9863 - val_loss: 1.3702 - val_acc: 0.7889\n",
      "Epoch 76/200\n",
      "21/21 [==============================] - 1s 35ms/step - loss: 0.0280 - acc: 0.9863 - val_loss: 1.2862 - val_acc: 0.7778\n",
      "Epoch 77/200\n",
      "21/21 [==============================] - 1s 35ms/step - loss: 0.0291 - acc: 0.9875 - val_loss: 1.3353 - val_acc: 0.7889\n",
      "Epoch 78/200\n",
      "21/21 [==============================] - 1s 39ms/step - loss: 0.0308 - acc: 0.9863 - val_loss: 1.3952 - val_acc: 0.7889\n",
      "Epoch 79/200\n",
      "21/21 [==============================] - 1s 36ms/step - loss: 0.0288 - acc: 0.9850 - val_loss: 1.3385 - val_acc: 0.7889\n",
      "Epoch 80/200\n",
      "21/21 [==============================] - 1s 37ms/step - loss: 0.0287 - acc: 0.9838 - val_loss: 1.2933 - val_acc: 0.7778\n",
      "Epoch 81/200\n",
      "21/21 [==============================] - 1s 37ms/step - loss: 0.0282 - acc: 0.9875 - val_loss: 1.2894 - val_acc: 0.7778\n",
      "Epoch 82/200\n",
      "21/21 [==============================] - 1s 36ms/step - loss: 0.0294 - acc: 0.9850 - val_loss: 1.3000 - val_acc: 0.7778\n",
      "Epoch 83/200\n",
      "21/21 [==============================] - 1s 36ms/step - loss: 0.0287 - acc: 0.9863 - val_loss: 1.3333 - val_acc: 0.7778\n",
      "Epoch 84/200\n",
      "21/21 [==============================] - 1s 36ms/step - loss: 0.0273 - acc: 0.9850 - val_loss: 1.3245 - val_acc: 0.7778\n",
      "Epoch 85/200\n",
      "21/21 [==============================] - 1s 38ms/step - loss: 0.0290 - acc: 0.9838 - val_loss: 1.2683 - val_acc: 0.7778\n",
      "Epoch 86/200\n",
      "21/21 [==============================] - 1s 41ms/step - loss: 0.0272 - acc: 0.9863 - val_loss: 1.3518 - val_acc: 0.7778\n",
      "Epoch 87/200\n",
      "21/21 [==============================] - 1s 40ms/step - loss: 0.0283 - acc: 0.9863 - val_loss: 1.4380 - val_acc: 0.7889\n",
      "Epoch 88/200\n",
      "21/21 [==============================] - 1s 48ms/step - loss: 0.0287 - acc: 0.9863 - val_loss: 1.4272 - val_acc: 0.7889\n",
      "Epoch 89/200\n",
      "21/21 [==============================] - 1s 52ms/step - loss: 0.0286 - acc: 0.9863 - val_loss: 1.3906 - val_acc: 0.7778\n",
      "Epoch 90/200\n",
      "21/21 [==============================] - 1s 54ms/step - loss: 0.0287 - acc: 0.9875 - val_loss: 1.4040 - val_acc: 0.7889\n",
      "Epoch 91/200\n",
      "21/21 [==============================] - 1s 54ms/step - loss: 0.0276 - acc: 0.9863 - val_loss: 1.3265 - val_acc: 0.7778\n",
      "Epoch 92/200\n",
      "21/21 [==============================] - 1s 57ms/step - loss: 0.0285 - acc: 0.9850 - val_loss: 1.3418 - val_acc: 0.7778\n",
      "Epoch 93/200\n",
      "21/21 [==============================] - 1s 49ms/step - loss: 0.0295 - acc: 0.9863 - val_loss: 1.3591 - val_acc: 0.7778\n",
      "Epoch 94/200\n",
      "21/21 [==============================] - 1s 41ms/step - loss: 0.0284 - acc: 0.9863 - val_loss: 1.4146 - val_acc: 0.7778\n",
      "Epoch 95/200\n",
      "21/21 [==============================] - 1s 39ms/step - loss: 0.0288 - acc: 0.9850 - val_loss: 1.4205 - val_acc: 0.7778\n",
      "Epoch 96/200\n",
      "21/21 [==============================] - 1s 40ms/step - loss: 0.0285 - acc: 0.9838 - val_loss: 1.3814 - val_acc: 0.7778\n",
      "Epoch 97/200\n",
      "21/21 [==============================] - 1s 42ms/step - loss: 0.0275 - acc: 0.9888 - val_loss: 1.3682 - val_acc: 0.7778\n",
      "Epoch 98/200\n",
      "21/21 [==============================] - 1s 39ms/step - loss: 0.0279 - acc: 0.9850 - val_loss: 1.3734 - val_acc: 0.7778\n",
      "Epoch 99/200\n",
      "21/21 [==============================] - 1s 38ms/step - loss: 0.0287 - acc: 0.9863 - val_loss: 1.4831 - val_acc: 0.7778\n",
      "Epoch 100/200\n",
      "21/21 [==============================] - 1s 40ms/step - loss: 0.0279 - acc: 0.9875 - val_loss: 1.5038 - val_acc: 0.7778\n",
      "Epoch 101/200\n",
      "21/21 [==============================] - 1s 38ms/step - loss: 0.0297 - acc: 0.9850 - val_loss: 1.5050 - val_acc: 0.7778\n",
      "Epoch 102/200\n",
      "21/21 [==============================] - 1s 37ms/step - loss: 0.0277 - acc: 0.9875 - val_loss: 1.4103 - val_acc: 0.7778\n",
      "Epoch 103/200\n",
      "21/21 [==============================] - 1s 37ms/step - loss: 0.0291 - acc: 0.9863 - val_loss: 1.4048 - val_acc: 0.7778\n",
      "Epoch 104/200\n",
      "21/21 [==============================] - 1s 41ms/step - loss: 0.0286 - acc: 0.9850 - val_loss: 1.4507 - val_acc: 0.7778\n",
      "Epoch 105/200\n",
      "21/21 [==============================] - 1s 42ms/step - loss: 0.0279 - acc: 0.9875 - val_loss: 1.4224 - val_acc: 0.7778\n",
      "Epoch 106/200\n",
      "21/21 [==============================] - 1s 50ms/step - loss: 0.0282 - acc: 0.9863 - val_loss: 1.4191 - val_acc: 0.7778\n",
      "Epoch 107/200\n",
      "21/21 [==============================] - 1s 39ms/step - loss: 0.0285 - acc: 0.9863 - val_loss: 1.4533 - val_acc: 0.7778\n",
      "Epoch 108/200\n",
      "21/21 [==============================] - 1s 38ms/step - loss: 0.0277 - acc: 0.9850 - val_loss: 1.4496 - val_acc: 0.7778\n",
      "Epoch 109/200\n",
      "21/21 [==============================] - 1s 38ms/step - loss: 0.0281 - acc: 0.9850 - val_loss: 1.4548 - val_acc: 0.7778\n",
      "Epoch 110/200\n",
      "21/21 [==============================] - 1s 38ms/step - loss: 0.0284 - acc: 0.9838 - val_loss: 1.4117 - val_acc: 0.7778\n",
      "Epoch 111/200\n",
      "21/21 [==============================] - 1s 40ms/step - loss: 0.0284 - acc: 0.9863 - val_loss: 1.4349 - val_acc: 0.7778\n",
      "Epoch 112/200\n",
      "21/21 [==============================] - 1s 44ms/step - loss: 0.0281 - acc: 0.9850 - val_loss: 1.4058 - val_acc: 0.7778\n",
      "Epoch 113/200\n",
      "21/21 [==============================] - 1s 44ms/step - loss: 0.0271 - acc: 0.9863 - val_loss: 1.4568 - val_acc: 0.7889\n",
      "Epoch 114/200\n",
      "21/21 [==============================] - 1s 44ms/step - loss: 0.0294 - acc: 0.9838 - val_loss: 1.4952 - val_acc: 0.7889\n",
      "Epoch 115/200\n",
      "21/21 [==============================] - 1s 43ms/step - loss: 0.0289 - acc: 0.9850 - val_loss: 1.4688 - val_acc: 0.7778\n",
      "Epoch 116/200\n",
      "21/21 [==============================] - 1s 47ms/step - loss: 0.0288 - acc: 0.9850 - val_loss: 1.3914 - val_acc: 0.7778\n",
      "Epoch 117/200\n",
      "21/21 [==============================] - 1s 47ms/step - loss: 0.0283 - acc: 0.9863 - val_loss: 1.4603 - val_acc: 0.7778\n",
      "Epoch 118/200\n",
      "21/21 [==============================] - 1s 41ms/step - loss: 0.0281 - acc: 0.9838 - val_loss: 1.5296 - val_acc: 0.7778\n",
      "Epoch 119/200\n",
      "21/21 [==============================] - 1s 42ms/step - loss: 0.0320 - acc: 0.9838 - val_loss: 2.2178 - val_acc: 0.7667\n",
      "Epoch 120/200\n",
      "21/21 [==============================] - 1s 46ms/step - loss: 0.0297 - acc: 0.9850 - val_loss: 1.3071 - val_acc: 0.7778\n",
      "Epoch 121/200\n",
      "21/21 [==============================] - 1s 38ms/step - loss: 0.2226 - acc: 0.9351 - val_loss: 0.9658 - val_acc: 0.7222\n",
      "Epoch 122/200\n",
      "21/21 [==============================] - 1s 43ms/step - loss: 0.2116 - acc: 0.9126 - val_loss: 0.7733 - val_acc: 0.7778\n",
      "Epoch 123/200\n"
     ]
    },
    {
     "name": "stdout",
     "output_type": "stream",
     "text": [
      "21/21 [==============================] - 1s 38ms/step - loss: 0.0891 - acc: 0.9750 - val_loss: 1.0604 - val_acc: 0.7444\n",
      "Epoch 124/200\n",
      "21/21 [==============================] - 1s 50ms/step - loss: 0.0505 - acc: 0.9800 - val_loss: 1.2604 - val_acc: 0.7222\n",
      "Epoch 125/200\n",
      "21/21 [==============================] - 1s 49ms/step - loss: 0.1330 - acc: 0.9501 - val_loss: 1.1082 - val_acc: 0.7889\n",
      "Epoch 126/200\n",
      "21/21 [==============================] - 1s 39ms/step - loss: 0.0656 - acc: 0.9763 - val_loss: 1.3018 - val_acc: 0.7556\n",
      "Epoch 127/200\n",
      "21/21 [==============================] - 1s 46ms/step - loss: 0.0485 - acc: 0.9813 - val_loss: 1.2794 - val_acc: 0.7667\n",
      "Epoch 128/200\n",
      "21/21 [==============================] - 1s 37ms/step - loss: 0.0351 - acc: 0.9825 - val_loss: 1.3903 - val_acc: 0.7556\n",
      "Epoch 129/200\n",
      "21/21 [==============================] - 1s 37ms/step - loss: 0.0354 - acc: 0.9850 - val_loss: 1.3369 - val_acc: 0.7889\n",
      "Epoch 130/200\n",
      "21/21 [==============================] - 1s 36ms/step - loss: 0.0301 - acc: 0.9863 - val_loss: 1.4563 - val_acc: 0.7556\n",
      "Epoch 131/200\n",
      "21/21 [==============================] - 1s 35ms/step - loss: 0.0302 - acc: 0.9850 - val_loss: 1.3906 - val_acc: 0.7889\n",
      "Epoch 132/200\n",
      "21/21 [==============================] - 1s 35ms/step - loss: 0.0303 - acc: 0.9863 - val_loss: 1.4530 - val_acc: 0.7667\n",
      "Epoch 133/200\n",
      "21/21 [==============================] - 1s 35ms/step - loss: 0.0293 - acc: 0.9863 - val_loss: 1.4015 - val_acc: 0.7889\n",
      "Epoch 134/200\n",
      "21/21 [==============================] - 1s 42ms/step - loss: 0.0319 - acc: 0.9825 - val_loss: 1.5100 - val_acc: 0.7667\n",
      "Epoch 135/200\n",
      "21/21 [==============================] - 1s 35ms/step - loss: 0.0288 - acc: 0.9863 - val_loss: 1.4501 - val_acc: 0.7778\n",
      "Epoch 136/200\n",
      "21/21 [==============================] - 1s 45ms/step - loss: 0.0301 - acc: 0.9863 - val_loss: 1.5101 - val_acc: 0.7667\n",
      "Epoch 137/200\n",
      "21/21 [==============================] - 1s 37ms/step - loss: 0.0296 - acc: 0.9875 - val_loss: 1.4932 - val_acc: 0.7778\n",
      "Epoch 138/200\n",
      "21/21 [==============================] - 1s 48ms/step - loss: 0.0283 - acc: 0.9863 - val_loss: 1.4957 - val_acc: 0.7667\n",
      "Epoch 139/200\n",
      "21/21 [==============================] - 1s 50ms/step - loss: 0.0283 - acc: 0.9838 - val_loss: 1.5179 - val_acc: 0.7667\n",
      "Epoch 140/200\n",
      "21/21 [==============================] - 1s 49ms/step - loss: 0.0279 - acc: 0.9863 - val_loss: 1.5322 - val_acc: 0.7667\n",
      "Epoch 141/200\n",
      "21/21 [==============================] - 1s 44ms/step - loss: 0.0277 - acc: 0.9850 - val_loss: 1.5069 - val_acc: 0.7778\n",
      "Epoch 142/200\n",
      "21/21 [==============================] - 1s 42ms/step - loss: 0.0286 - acc: 0.9863 - val_loss: 1.5634 - val_acc: 0.7667\n",
      "Epoch 143/200\n",
      "21/21 [==============================] - 1s 46ms/step - loss: 0.0299 - acc: 0.9863 - val_loss: 1.6015 - val_acc: 0.7889\n",
      "Epoch 144/200\n",
      "21/21 [==============================] - 1s 49ms/step - loss: 0.0300 - acc: 0.9863 - val_loss: 1.6658 - val_acc: 0.7667\n",
      "Epoch 145/200\n",
      "21/21 [==============================] - 1s 44ms/step - loss: 0.0285 - acc: 0.9850 - val_loss: 1.6218 - val_acc: 0.7667\n",
      "Epoch 146/200\n",
      "21/21 [==============================] - 1s 37ms/step - loss: 0.0288 - acc: 0.9863 - val_loss: 1.5464 - val_acc: 0.7667\n",
      "Epoch 147/200\n",
      "21/21 [==============================] - 1s 43ms/step - loss: 0.0287 - acc: 0.9863 - val_loss: 1.5959 - val_acc: 0.7667\n",
      "Epoch 148/200\n",
      "21/21 [==============================] - 1s 37ms/step - loss: 0.0287 - acc: 0.9850 - val_loss: 1.5940 - val_acc: 0.7667\n",
      "Epoch 149/200\n",
      "21/21 [==============================] - 1s 37ms/step - loss: 0.0272 - acc: 0.9863 - val_loss: 1.5590 - val_acc: 0.7889\n",
      "Epoch 150/200\n",
      "21/21 [==============================] - 1s 38ms/step - loss: 0.0290 - acc: 0.9863 - val_loss: 1.5812 - val_acc: 0.7778\n",
      "Epoch 151/200\n",
      "21/21 [==============================] - 1s 38ms/step - loss: 0.0272 - acc: 0.9863 - val_loss: 1.6008 - val_acc: 0.7667\n",
      "Epoch 152/200\n",
      "21/21 [==============================] - 1s 37ms/step - loss: 0.0273 - acc: 0.9863 - val_loss: 1.6410 - val_acc: 0.7667\n",
      "Epoch 153/200\n",
      "21/21 [==============================] - 1s 36ms/step - loss: 0.0289 - acc: 0.9863 - val_loss: 1.6617 - val_acc: 0.7667\n",
      "Epoch 154/200\n",
      "21/21 [==============================] - 1s 36ms/step - loss: 0.0295 - acc: 0.9863 - val_loss: 1.6830 - val_acc: 0.7778\n",
      "Epoch 155/200\n",
      "21/21 [==============================] - 1s 36ms/step - loss: 0.0288 - acc: 0.9850 - val_loss: 1.6998 - val_acc: 0.7667\n",
      "Epoch 156/200\n",
      "21/21 [==============================] - 1s 36ms/step - loss: 0.0268 - acc: 0.9863 - val_loss: 1.6720 - val_acc: 0.7667\n",
      "Epoch 157/200\n",
      "21/21 [==============================] - 1s 36ms/step - loss: 0.0291 - acc: 0.9838 - val_loss: 1.6153 - val_acc: 0.7667\n",
      "Epoch 158/200\n",
      "21/21 [==============================] - 1s 36ms/step - loss: 0.0284 - acc: 0.9850 - val_loss: 1.6875 - val_acc: 0.7889\n",
      "Epoch 159/200\n",
      "21/21 [==============================] - 1s 36ms/step - loss: 0.0280 - acc: 0.9875 - val_loss: 1.6958 - val_acc: 0.7778\n",
      "Epoch 160/200\n",
      "21/21 [==============================] - 1s 37ms/step - loss: 0.0293 - acc: 0.9850 - val_loss: 1.6908 - val_acc: 0.7667\n",
      "Epoch 161/200\n",
      "21/21 [==============================] - 1s 38ms/step - loss: 0.0277 - acc: 0.9850 - val_loss: 1.7354 - val_acc: 0.7889\n",
      "Epoch 162/200\n",
      "21/21 [==============================] - 1s 46ms/step - loss: 0.0291 - acc: 0.9875 - val_loss: 1.7382 - val_acc: 0.7889\n",
      "Epoch 163/200\n",
      "21/21 [==============================] - 1s 46ms/step - loss: 0.0283 - acc: 0.9850 - val_loss: 1.7304 - val_acc: 0.7778\n",
      "Epoch 164/200\n",
      "21/21 [==============================] - 1s 37ms/step - loss: 0.0279 - acc: 0.9863 - val_loss: 1.7430 - val_acc: 0.7889\n",
      "Epoch 165/200\n",
      "21/21 [==============================] - 1s 42ms/step - loss: 0.0279 - acc: 0.9850 - val_loss: 1.7471 - val_acc: 0.7889\n",
      "Epoch 166/200\n",
      "21/21 [==============================] - 1s 42ms/step - loss: 0.0294 - acc: 0.9863 - val_loss: 1.8160 - val_acc: 0.7222\n",
      "Epoch 167/200\n",
      "21/21 [==============================] - 1s 41ms/step - loss: 0.0436 - acc: 0.9800 - val_loss: 1.9905 - val_acc: 0.6889\n",
      "Epoch 168/200\n",
      "21/21 [==============================] - 1s 36ms/step - loss: 0.0717 - acc: 0.9713 - val_loss: 1.8817 - val_acc: 0.7556\n",
      "Epoch 169/200\n",
      "21/21 [==============================] - 1s 36ms/step - loss: 0.0561 - acc: 0.9775 - val_loss: 1.5691 - val_acc: 0.7556\n",
      "Epoch 170/200\n",
      "21/21 [==============================] - 1s 37ms/step - loss: 0.0356 - acc: 0.9850 - val_loss: 1.6548 - val_acc: 0.7444\n",
      "Epoch 171/200\n",
      "21/21 [==============================] - 1s 36ms/step - loss: 0.0315 - acc: 0.9850 - val_loss: 1.5870 - val_acc: 0.7222\n",
      "Epoch 172/200\n",
      "21/21 [==============================] - 1s 36ms/step - loss: 0.0297 - acc: 0.9850 - val_loss: 1.6097 - val_acc: 0.7111\n",
      "Epoch 173/200\n",
      "21/21 [==============================] - 1s 37ms/step - loss: 0.0293 - acc: 0.9863 - val_loss: 1.6550 - val_acc: 0.7222\n",
      "Epoch 174/200\n",
      "21/21 [==============================] - 1s 37ms/step - loss: 0.0302 - acc: 0.9863 - val_loss: 1.7279 - val_acc: 0.7556\n",
      "Epoch 175/200\n",
      "21/21 [==============================] - 1s 51ms/step - loss: 0.0274 - acc: 0.9863 - val_loss: 1.7339 - val_acc: 0.7556\n",
      "Epoch 176/200\n",
      "21/21 [==============================] - 1s 41ms/step - loss: 0.0271 - acc: 0.9863 - val_loss: 1.7572 - val_acc: 0.7556\n",
      "Epoch 177/200\n",
      "21/21 [==============================] - 1s 45ms/step - loss: 0.0296 - acc: 0.9863 - val_loss: 1.7743 - val_acc: 0.7556\n",
      "Epoch 178/200\n",
      "21/21 [==============================] - 1s 40ms/step - loss: 0.0290 - acc: 0.9863 - val_loss: 1.8147 - val_acc: 0.7667\n",
      "Epoch 179/200\n",
      "21/21 [==============================] - 1s 37ms/step - loss: 0.0286 - acc: 0.9863 - val_loss: 1.8676 - val_acc: 0.7667\n",
      "Epoch 180/200\n",
      "21/21 [==============================] - 1s 37ms/step - loss: 0.0291 - acc: 0.9863 - val_loss: 1.8590 - val_acc: 0.7556\n",
      "Epoch 181/200\n",
      "21/21 [==============================] - 1s 36ms/step - loss: 0.0280 - acc: 0.9850 - val_loss: 1.7718 - val_acc: 0.7222\n",
      "Epoch 182/200\n",
      "21/21 [==============================] - 1s 37ms/step - loss: 0.0281 - acc: 0.9863 - val_loss: 1.8152 - val_acc: 0.7444\n",
      "Epoch 183/200\n",
      "21/21 [==============================] - 1s 35ms/step - loss: 0.0299 - acc: 0.9850 - val_loss: 1.8855 - val_acc: 0.7556\n",
      "Epoch 184/200\n"
     ]
    },
    {
     "name": "stdout",
     "output_type": "stream",
     "text": [
      "21/21 [==============================] - 1s 35ms/step - loss: 0.0276 - acc: 0.9863 - val_loss: 1.8731 - val_acc: 0.7444\n",
      "Epoch 185/200\n",
      "21/21 [==============================] - 1s 41ms/step - loss: 0.0277 - acc: 0.9863 - val_loss: 1.8714 - val_acc: 0.7444\n",
      "Epoch 186/200\n",
      "21/21 [==============================] - 1s 36ms/step - loss: 0.0285 - acc: 0.9863 - val_loss: 1.8719 - val_acc: 0.7444\n",
      "Epoch 187/200\n",
      "21/21 [==============================] - 1s 35ms/step - loss: 0.0278 - acc: 0.9875 - val_loss: 1.8639 - val_acc: 0.7444\n",
      "Epoch 188/200\n",
      "21/21 [==============================] - 1s 36ms/step - loss: 0.0273 - acc: 0.9863 - val_loss: 1.8636 - val_acc: 0.7333\n",
      "Epoch 189/200\n",
      "21/21 [==============================] - 1s 35ms/step - loss: 0.0275 - acc: 0.9863 - val_loss: 1.8979 - val_acc: 0.7333\n",
      "Epoch 190/200\n",
      "21/21 [==============================] - 1s 36ms/step - loss: 0.0276 - acc: 0.9863 - val_loss: 1.9070 - val_acc: 0.7333\n",
      "Epoch 191/200\n",
      "21/21 [==============================] - 1s 35ms/step - loss: 0.0282 - acc: 0.9863 - val_loss: 1.9126 - val_acc: 0.7333\n",
      "Epoch 192/200\n",
      "21/21 [==============================] - 1s 35ms/step - loss: 0.0280 - acc: 0.9875 - val_loss: 1.9181 - val_acc: 0.7444\n",
      "Epoch 193/200\n",
      "21/21 [==============================] - 1s 35ms/step - loss: 0.0282 - acc: 0.9863 - val_loss: 1.9379 - val_acc: 0.7444\n",
      "Epoch 194/200\n",
      "21/21 [==============================] - 1s 35ms/step - loss: 0.0288 - acc: 0.9850 - val_loss: 1.9449 - val_acc: 0.7556\n",
      "Epoch 195/200\n",
      "21/21 [==============================] - 1s 35ms/step - loss: 0.0275 - acc: 0.9875 - val_loss: 1.9420 - val_acc: 0.7444\n",
      "Epoch 196/200\n",
      "21/21 [==============================] - 1s 35ms/step - loss: 0.0272 - acc: 0.9875 - val_loss: 1.9368 - val_acc: 0.7444\n",
      "Epoch 197/200\n",
      "21/21 [==============================] - 1s 36ms/step - loss: 0.0275 - acc: 0.9863 - val_loss: 1.9449 - val_acc: 0.7333\n",
      "Epoch 198/200\n",
      "21/21 [==============================] - 1s 36ms/step - loss: 0.0272 - acc: 0.9863 - val_loss: 1.9460 - val_acc: 0.7444\n",
      "Epoch 199/200\n",
      "21/21 [==============================] - 1s 36ms/step - loss: 0.0284 - acc: 0.9863 - val_loss: 1.9584 - val_acc: 0.7444\n",
      "Epoch 200/200\n",
      "21/21 [==============================] - 1s 38ms/step - loss: 0.0269 - acc: 0.9863 - val_loss: 1.9720 - val_acc: 0.7444\n"
     ]
    }
   ],
   "source": [
    "hist = model.fit(x_train, y_tr, epochs=num_epochs, validation_split=0.1, shuffle=True, batch_size=batch_size)"
   ]
  },
  {
   "cell_type": "markdown",
   "id": "f68c9c5d",
   "metadata": {},
   "source": [
    "# Test CNN"
   ]
  },
  {
   "cell_type": "code",
   "execution_count": 38,
   "id": "a8e542b2",
   "metadata": {},
   "outputs": [
    {
     "name": "stdout",
     "output_type": "stream",
     "text": [
      "1/1 [==============================] - 0s 136ms/step\n"
     ]
    }
   ],
   "source": [
    "predictions = model.predict(test_cnn_data, batch_size=1024, verbose=1)"
   ]
  },
  {
   "cell_type": "code",
   "execution_count": 39,
   "id": "ff009605",
   "metadata": {},
   "outputs": [],
   "source": [
    "labels = [1, 0]"
   ]
  },
  {
   "cell_type": "code",
   "execution_count": 40,
   "id": "f29ad304",
   "metadata": {},
   "outputs": [],
   "source": [
    "prediction_labels=[]\n",
    "for p in predictions:\n",
    "    prediction_labels.append(labels[np.argmax(p)])"
   ]
  },
  {
   "cell_type": "code",
   "execution_count": 41,
   "id": "baa3c80d",
   "metadata": {},
   "outputs": [
    {
     "data": {
      "text/plain": [
       "0    60\n",
       "1    40\n",
       "Name: Label, dtype: int64"
      ]
     },
     "execution_count": 41,
     "metadata": {},
     "output_type": "execute_result"
    }
   ],
   "source": [
    "data_test.Label.value_counts()"
   ]
  },
  {
   "cell_type": "code",
   "execution_count": 42,
   "id": "53461f84",
   "metadata": {},
   "outputs": [
    {
     "data": {
      "text/plain": [
       "0.78"
      ]
     },
     "execution_count": 42,
     "metadata": {},
     "output_type": "execute_result"
    }
   ],
   "source": [
    "sum(data_test.Label==prediction_labels)/len(prediction_labels)"
   ]
  },
  {
   "cell_type": "code",
   "execution_count": 43,
   "id": "f76d4a58",
   "metadata": {},
   "outputs": [
    {
     "data": {
      "text/plain": [
       "Text(23.999999999999993, 0.5, 'Actual')"
      ]
     },
     "execution_count": 43,
     "metadata": {},
     "output_type": "execute_result"
    },
    {
     "data": {
      "image/png": "[encoded data removed]",
      "text/plain": [
       "<Figure size 360x360 with 2 Axes>"
      ]
     },
     "metadata": {
      "needs_background": "light"
     },
     "output_type": "display_data"
    }
   ],
   "source": [
    "import seaborn as sns\n",
    "import matplotlib.pyplot as plt\n",
    "from sklearn.metrics import confusion_matrix\n",
    "\n",
    "cm = confusion_matrix(data_test.Label, prediction_labels)\n",
    "plt.figure(figsize = (5,5))\n",
    "sns.heatmap(cm,cmap= \"Blues\", \n",
    "            linecolor = 'black', \n",
    "            linewidth = 1, \n",
    "            annot = True, \n",
    "            fmt='', \n",
    "            xticklabels = ['Sexual Predation','Not Sexual Predation'], \n",
    "            yticklabels = ['Sexual Predation','Not Sexual Predation'])\n",
    "plt.xlabel(\"Predicted\")\n",
    "plt.ylabel(\"Actual\")"
   ]
  },
  {
   "cell_type": "code",
   "execution_count": null,
   "id": "423d4376",
   "metadata": {},
   "outputs": [],
   "source": []
  }
 ],
 "metadata": {
  "kernelspec": {
   "display_name": "Python 3 (ipykernel)",
   "language": "python",
   "name": "python3"
  },
  "language_info": {
   "codemirror_mode": {
    "name": "ipython",
    "version": 3
   },
   "file_extension": ".py",
   "mimetype": "text/x-python",
   "name": "python",
   "nbconvert_exporter": "python",
   "pygments_lexer": "ipython3",
   "version": "3.9.7"
  }
 },
 "nbformat": 4,
 "nbformat_minor": 5
}
