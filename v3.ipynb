{
 "cells": [
  {
   "cell_type": "code",
   "execution_count": 1,
   "id": "7109c319",
   "metadata": {
    "scrolled": true
   },
   "outputs": [
    {
     "name": "stderr",
     "output_type": "stream",
     "text": [
      "[nltk_data] Downloading package stopwords to\n",
      "[nltk_data]     C:\\Users\\ASUS\\AppData\\Roaming\\nltk_data...\n",
      "[nltk_data]   Package stopwords is already up-to-date!\n"
     ]
    }
   ],
   "source": [
    "from __future__ import division, print_function\n",
    "from gensim import models\n",
    "from keras.callbacks import ModelCheckpoint\n",
    "from keras.layers import Dense, Dropout, Reshape, Flatten, concatenate, Input, Conv1D, GlobalMaxPooling1D, Embedding\n",
    "from keras.layers.recurrent import LSTM\n",
    "from keras.models import Sequential\n",
    "from keras.preprocessing.text import Tokenizer\n",
    "from keras.preprocessing.sequence import pad_sequences\n",
    "from keras.models import Model\n",
    "from sklearn.model_selection import train_test_split\n",
    "import numpy as np\n",
    "import pandas as pd\n",
    "import os\n",
    "import collections\n",
    "import re\n",
    "import string\n",
    "\n",
    "\n",
    "import nltk\n",
    "nltk.download('stopwords')\n",
    "from nltk.corpus import stopwords\n",
    "from nltk.stem.porter import PorterStemmer\n",
    "\n",
    "from sklearn.metrics import roc_auc_score\n",
    "from torch.autograd import Variable\n",
    "\n",
    "import gensim\n",
    "import matplotlib.pyplot as plt\n",
    "\n",
    "import itertools"
   ]
  },
  {
   "cell_type": "code",
   "execution_count": 2,
   "id": "02a2a798",
   "metadata": {},
   "outputs": [
    {
     "data": {
      "text/html": [
       "<div>\n",
       "<style scoped>\n",
       "    .dataframe tbody tr th:only-of-type {\n",
       "        vertical-align: middle;\n",
       "    }\n",
       "\n",
       "    .dataframe tbody tr th {\n",
       "        vertical-align: top;\n",
       "    }\n",
       "\n",
       "    .dataframe thead th {\n",
       "        text-align: right;\n",
       "    }\n",
       "</style>\n",
       "<table border=\"1\" class=\"dataframe\">\n",
       "  <thead>\n",
       "    <tr style=\"text-align: right;\">\n",
       "      <th></th>\n",
       "      <th>Text</th>\n",
       "      <th>Label</th>\n",
       "    </tr>\n",
       "  </thead>\n",
       "  <tbody>\n",
       "    <tr>\n",
       "      <th>0</th>\n",
       "      <td>Buses approaching to this place is highly unsafe.</td>\n",
       "      <td>1</td>\n",
       "    </tr>\n",
       "    <tr>\n",
       "      <th>1</th>\n",
       "      <td>a man was commenting at me.</td>\n",
       "      <td>1</td>\n",
       "    </tr>\n",
       "    <tr>\n",
       "      <th>2</th>\n",
       "      <td>in a share auto</td>\n",
       "      <td>0</td>\n",
       "    </tr>\n",
       "    <tr>\n",
       "      <th>3</th>\n",
       "      <td>I was coming out of a club at night with a few...</td>\n",
       "      <td>1</td>\n",
       "    </tr>\n",
       "    <tr>\n",
       "      <th>4</th>\n",
       "      <td>One of my friends was molested in the crowd. T...</td>\n",
       "      <td>0</td>\n",
       "    </tr>\n",
       "    <tr>\n",
       "      <th>5</th>\n",
       "      <td>I was travelling in metro heading to my colleg...</td>\n",
       "      <td>0</td>\n",
       "    </tr>\n",
       "    <tr>\n",
       "      <th>6</th>\n",
       "      <td>A guy masturbating at the roadside and ogling....</td>\n",
       "      <td>1</td>\n",
       "    </tr>\n",
       "    <tr>\n",
       "      <th>7</th>\n",
       "      <td>When I was travelling in red line metro , a gu...</td>\n",
       "      <td>0</td>\n",
       "    </tr>\n",
       "    <tr>\n",
       "      <th>8</th>\n",
       "      <td>Late evening (around 7.30 pm) after shopping i...</td>\n",
       "      <td>0</td>\n",
       "    </tr>\n",
       "    <tr>\n",
       "      <th>9</th>\n",
       "      <td>For a week in the morning when I found be taki...</td>\n",
       "      <td>1</td>\n",
       "    </tr>\n",
       "    <tr>\n",
       "      <th>10</th>\n",
       "      <td>It happened in the afternoon in the metro.It w...</td>\n",
       "      <td>1</td>\n",
       "    </tr>\n",
       "    <tr>\n",
       "      <th>11</th>\n",
       "      <td>some people seemed so friendly,but kept follow...</td>\n",
       "      <td>1</td>\n",
       "    </tr>\n",
       "    <tr>\n",
       "      <th>12</th>\n",
       "      <td>i know of a girl who was groped in the DDA par...</td>\n",
       "      <td>0</td>\n",
       "    </tr>\n",
       "    <tr>\n",
       "      <th>13</th>\n",
       "      <td>harassment</td>\n",
       "      <td>0</td>\n",
       "    </tr>\n",
       "    <tr>\n",
       "      <th>14</th>\n",
       "      <td>a girl was passing and some men started callin...</td>\n",
       "      <td>0</td>\n",
       "    </tr>\n",
       "    <tr>\n",
       "      <th>15</th>\n",
       "      <td>self explanatory</td>\n",
       "      <td>0</td>\n",
       "    </tr>\n",
       "    <tr>\n",
       "      <th>16</th>\n",
       "      <td>A guy usually clicks picture of my friend. It ...</td>\n",
       "      <td>0</td>\n",
       "    </tr>\n",
       "    <tr>\n",
       "      <th>17</th>\n",
       "      <td>the person took advantage of the crowd while s...</td>\n",
       "      <td>0</td>\n",
       "    </tr>\n",
       "    <tr>\n",
       "      <th>18</th>\n",
       "      <td>my friend was going to market and one boy comm...</td>\n",
       "      <td>1</td>\n",
       "    </tr>\n",
       "    <tr>\n",
       "      <th>19</th>\n",
       "      <td>my auto wallah stopped midway and asked us to ...</td>\n",
       "      <td>0</td>\n",
       "    </tr>\n",
       "    <tr>\n",
       "      <th>20</th>\n",
       "      <td>i was walking upstairs on the bridge in dadar ...</td>\n",
       "      <td>0</td>\n",
       "    </tr>\n",
       "    <tr>\n",
       "      <th>21</th>\n",
       "      <td>it was really bad.</td>\n",
       "      <td>1</td>\n",
       "    </tr>\n",
       "    <tr>\n",
       "      <th>22</th>\n",
       "      <td>may be i've been studying 6th then when i was ...</td>\n",
       "      <td>0</td>\n",
       "    </tr>\n",
       "    <tr>\n",
       "      <th>23</th>\n",
       "      <td>It happened with me about 45 years ago. I used...</td>\n",
       "      <td>0</td>\n",
       "    </tr>\n",
       "    <tr>\n",
       "      <th>24</th>\n",
       "      <td>i was returning home when a group of men start...</td>\n",
       "      <td>1</td>\n",
       "    </tr>\n",
       "    <tr>\n",
       "      <th>25</th>\n",
       "      <td>a strange looking man followed the victim from...</td>\n",
       "      <td>0</td>\n",
       "    </tr>\n",
       "    <tr>\n",
       "      <th>26</th>\n",
       "      <td>During evening , I went to visit my friend and...</td>\n",
       "      <td>0</td>\n",
       "    </tr>\n",
       "    <tr>\n",
       "      <th>27</th>\n",
       "      <td>while i was travelling in the bus with my frie...</td>\n",
       "      <td>1</td>\n",
       "    </tr>\n",
       "    <tr>\n",
       "      <th>28</th>\n",
       "      <td>exposing body parts</td>\n",
       "      <td>0</td>\n",
       "    </tr>\n",
       "    <tr>\n",
       "      <th>29</th>\n",
       "      <td>some boys were teasing me when i was going in ...</td>\n",
       "      <td>1</td>\n",
       "    </tr>\n",
       "    <tr>\n",
       "      <th>30</th>\n",
       "      <td>i was home alone with my father. my mother and...</td>\n",
       "      <td>0</td>\n",
       "    </tr>\n",
       "    <tr>\n",
       "      <th>31</th>\n",
       "      <td>a young girl of 12 years was raped by the step...</td>\n",
       "      <td>0</td>\n",
       "    </tr>\n",
       "    <tr>\n",
       "      <th>32</th>\n",
       "      <td>some of the group of boys teases my sister whi...</td>\n",
       "      <td>1</td>\n",
       "    </tr>\n",
       "    <tr>\n",
       "      <th>33</th>\n",
       "      <td>A few years back, I was on a bus form delhi to...</td>\n",
       "      <td>0</td>\n",
       "    </tr>\n",
       "    <tr>\n",
       "      <th>34</th>\n",
       "      <td>I was harassed and ill treated</td>\n",
       "      <td>1</td>\n",
       "    </tr>\n",
       "    <tr>\n",
       "      <th>35</th>\n",
       "      <td>Some guys  were stalking a girl</td>\n",
       "      <td>0</td>\n",
       "    </tr>\n",
       "    <tr>\n",
       "      <th>36</th>\n",
       "      <td>I am 14 year old boy and while returning from ...</td>\n",
       "      <td>0</td>\n",
       "    </tr>\n",
       "    <tr>\n",
       "      <th>37</th>\n",
       "      <td>I had experience while walking in the road.</td>\n",
       "      <td>0</td>\n",
       "    </tr>\n",
       "    <tr>\n",
       "      <th>38</th>\n",
       "      <td>Someone passed a comment near the Hanuman Temple</td>\n",
       "      <td>1</td>\n",
       "    </tr>\n",
       "    <tr>\n",
       "      <th>39</th>\n",
       "      <td>A man thought I was a prostitute and was offer...</td>\n",
       "      <td>1</td>\n",
       "    </tr>\n",
       "    <tr>\n",
       "      <th>40</th>\n",
       "      <td>pupils of st john primary school in silanga ar...</td>\n",
       "      <td>0</td>\n",
       "    </tr>\n",
       "    <tr>\n",
       "      <th>41</th>\n",
       "      <td>I was walking to my car in a deserted parking ...</td>\n",
       "      <td>1</td>\n",
       "    </tr>\n",
       "    <tr>\n",
       "      <th>42</th>\n",
       "      <td>By bus driver while driving scooter shouted an...</td>\n",
       "      <td>0</td>\n",
       "    </tr>\n",
       "    <tr>\n",
       "      <th>43</th>\n",
       "      <td>me and my friend was travelling in the public ...</td>\n",
       "      <td>1</td>\n",
       "    </tr>\n",
       "    <tr>\n",
       "      <th>44</th>\n",
       "      <td>harassed in the afternoon</td>\n",
       "      <td>1</td>\n",
       "    </tr>\n",
       "    <tr>\n",
       "      <th>45</th>\n",
       "      <td>Touching, ogling</td>\n",
       "      <td>0</td>\n",
       "    </tr>\n",
       "    <tr>\n",
       "      <th>46</th>\n",
       "      <td>Chain Snatching, commenting, and ogling in eve...</td>\n",
       "      <td>1</td>\n",
       "    </tr>\n",
       "    <tr>\n",
       "      <th>47</th>\n",
       "      <td>some man whistle my friend when she was going ...</td>\n",
       "      <td>0</td>\n",
       "    </tr>\n",
       "    <tr>\n",
       "      <th>48</th>\n",
       "      <td>Some random guys were clicking pictures of me ...</td>\n",
       "      <td>0</td>\n",
       "    </tr>\n",
       "    <tr>\n",
       "      <th>49</th>\n",
       "      <td>A young girl was influenced by her friends who...</td>\n",
       "      <td>0</td>\n",
       "    </tr>\n",
       "  </tbody>\n",
       "</table>\n",
       "</div>"
      ],
      "text/plain": [
       "                                                 Text  Label\n",
       "0   Buses approaching to this place is highly unsafe.      1\n",
       "1                         a man was commenting at me.      1\n",
       "2                                     in a share auto      0\n",
       "3   I was coming out of a club at night with a few...      1\n",
       "4   One of my friends was molested in the crowd. T...      0\n",
       "5   I was travelling in metro heading to my colleg...      0\n",
       "6   A guy masturbating at the roadside and ogling....      1\n",
       "7   When I was travelling in red line metro , a gu...      0\n",
       "8   Late evening (around 7.30 pm) after shopping i...      0\n",
       "9   For a week in the morning when I found be taki...      1\n",
       "10  It happened in the afternoon in the metro.It w...      1\n",
       "11  some people seemed so friendly,but kept follow...      1\n",
       "12  i know of a girl who was groped in the DDA par...      0\n",
       "13                                         harassment      0\n",
       "14  a girl was passing and some men started callin...      0\n",
       "15                                   self explanatory      0\n",
       "16  A guy usually clicks picture of my friend. It ...      0\n",
       "17  the person took advantage of the crowd while s...      0\n",
       "18  my friend was going to market and one boy comm...      1\n",
       "19  my auto wallah stopped midway and asked us to ...      0\n",
       "20  i was walking upstairs on the bridge in dadar ...      0\n",
       "21                                 it was really bad.      1\n",
       "22  may be i've been studying 6th then when i was ...      0\n",
       "23  It happened with me about 45 years ago. I used...      0\n",
       "24  i was returning home when a group of men start...      1\n",
       "25  a strange looking man followed the victim from...      0\n",
       "26  During evening , I went to visit my friend and...      0\n",
       "27  while i was travelling in the bus with my frie...      1\n",
       "28                                exposing body parts      0\n",
       "29  some boys were teasing me when i was going in ...      1\n",
       "30  i was home alone with my father. my mother and...      0\n",
       "31  a young girl of 12 years was raped by the step...      0\n",
       "32  some of the group of boys teases my sister whi...      1\n",
       "33  A few years back, I was on a bus form delhi to...      0\n",
       "34                     I was harassed and ill treated      1\n",
       "35                    Some guys  were stalking a girl      0\n",
       "36  I am 14 year old boy and while returning from ...      0\n",
       "37        I had experience while walking in the road.      0\n",
       "38   Someone passed a comment near the Hanuman Temple      1\n",
       "39  A man thought I was a prostitute and was offer...      1\n",
       "40  pupils of st john primary school in silanga ar...      0\n",
       "41  I was walking to my car in a deserted parking ...      1\n",
       "42  By bus driver while driving scooter shouted an...      0\n",
       "43  me and my friend was travelling in the public ...      1\n",
       "44                          harassed in the afternoon      1\n",
       "45                                   Touching, ogling      0\n",
       "46  Chain Snatching, commenting, and ogling in eve...      1\n",
       "47  some man whistle my friend when she was going ...      0\n",
       "48  Some random guys were clicking pictures of me ...      0\n",
       "49  A young girl was influenced by her friends who...      0"
      ]
     },
     "execution_count": 2,
     "metadata": {},
     "output_type": "execute_result"
    }
   ],
   "source": [
    "data = pd.read_csv('dev.csv')\n",
    "data.columns = ['Text', 'Label']\n",
    "data.head(50)"
   ]
  },
  {
   "cell_type": "code",
   "execution_count": 3,
   "id": "240d8022",
   "metadata": {},
   "outputs": [
    {
     "data": {
      "text/plain": [
       "array([1, 0], dtype=int64)"
      ]
     },
     "execution_count": 3,
     "metadata": {},
     "output_type": "execute_result"
    }
   ],
   "source": [
    "data.Label.unique()"
   ]
  },
  {
   "cell_type": "code",
   "execution_count": 4,
   "id": "04fc7a7d",
   "metadata": {},
   "outputs": [
    {
     "data": {
      "text/plain": [
       "(991, 2)"
      ]
     },
     "execution_count": 4,
     "metadata": {},
     "output_type": "execute_result"
    }
   ],
   "source": [
    "data.shape"
   ]
  },
  {
   "cell_type": "code",
   "execution_count": 5,
   "id": "869dc4e3",
   "metadata": {},
   "outputs": [],
   "source": [
    "pos = []\n",
    "neg = []\n",
    "for l in data.Label:\n",
    "    if l == 0:\n",
    "        pos.append(0)\n",
    "        neg.append(1)\n",
    "    elif l == 1:\n",
    "        pos.append(1)\n",
    "        neg.append(0)"
   ]
  },
  {
   "cell_type": "code",
   "execution_count": 6,
   "id": "860f76f5",
   "metadata": {},
   "outputs": [],
   "source": [
    "data['Pos']= pos\n",
    "data['Neg']= neg"
   ]
  },
  {
   "cell_type": "code",
   "execution_count": 7,
   "id": "8236b25a",
   "metadata": {},
   "outputs": [
    {
     "data": {
      "text/html": [
       "<div>\n",
       "<style scoped>\n",
       "    .dataframe tbody tr th:only-of-type {\n",
       "        vertical-align: middle;\n",
       "    }\n",
       "\n",
       "    .dataframe tbody tr th {\n",
       "        vertical-align: top;\n",
       "    }\n",
       "\n",
       "    .dataframe thead th {\n",
       "        text-align: right;\n",
       "    }\n",
       "</style>\n",
       "<table border=\"1\" class=\"dataframe\">\n",
       "  <thead>\n",
       "    <tr style=\"text-align: right;\">\n",
       "      <th></th>\n",
       "      <th>Text</th>\n",
       "      <th>Label</th>\n",
       "      <th>Pos</th>\n",
       "      <th>Neg</th>\n",
       "    </tr>\n",
       "  </thead>\n",
       "  <tbody>\n",
       "    <tr>\n",
       "      <th>0</th>\n",
       "      <td>Buses approaching to this place is highly unsafe.</td>\n",
       "      <td>1</td>\n",
       "      <td>1</td>\n",
       "      <td>0</td>\n",
       "    </tr>\n",
       "    <tr>\n",
       "      <th>1</th>\n",
       "      <td>a man was commenting at me.</td>\n",
       "      <td>1</td>\n",
       "      <td>1</td>\n",
       "      <td>0</td>\n",
       "    </tr>\n",
       "    <tr>\n",
       "      <th>2</th>\n",
       "      <td>in a share auto</td>\n",
       "      <td>0</td>\n",
       "      <td>0</td>\n",
       "      <td>1</td>\n",
       "    </tr>\n",
       "    <tr>\n",
       "      <th>3</th>\n",
       "      <td>I was coming out of a club at night with a few...</td>\n",
       "      <td>1</td>\n",
       "      <td>1</td>\n",
       "      <td>0</td>\n",
       "    </tr>\n",
       "    <tr>\n",
       "      <th>4</th>\n",
       "      <td>One of my friends was molested in the crowd. T...</td>\n",
       "      <td>0</td>\n",
       "      <td>0</td>\n",
       "      <td>1</td>\n",
       "    </tr>\n",
       "  </tbody>\n",
       "</table>\n",
       "</div>"
      ],
      "text/plain": [
       "                                                Text  Label  Pos  Neg\n",
       "0  Buses approaching to this place is highly unsafe.      1    1    0\n",
       "1                        a man was commenting at me.      1    1    0\n",
       "2                                    in a share auto      0    0    1\n",
       "3  I was coming out of a club at night with a few...      1    1    0\n",
       "4  One of my friends was molested in the crowd. T...      0    0    1"
      ]
     },
     "execution_count": 7,
     "metadata": {},
     "output_type": "execute_result"
    }
   ],
   "source": [
    "data.head()"
   ]
  },
  {
   "cell_type": "markdown",
   "id": "0a813ca5",
   "metadata": {},
   "source": [
    "# Cleaning the data"
   ]
  },
  {
   "cell_type": "code",
   "execution_count": 8,
   "id": "331f425b",
   "metadata": {},
   "outputs": [],
   "source": [
    "def remove_punct(text):\n",
    "    text_nopunct = ''\n",
    "    text_nopunct = re.sub('['+string.punctuation+']', '', text)\n",
    "    return text_nopunct\n",
    "\n",
    "data['Text_Clean'] = data['Text'].apply(lambda x: remove_punct(x))"
   ]
  },
  {
   "cell_type": "code",
   "execution_count": 9,
   "id": "ce80606e",
   "metadata": {},
   "outputs": [],
   "source": [
    "from nltk import word_tokenize, WordNetLemmatizer\n",
    "tokens = [word_tokenize(sen) for sen in data.Text_Clean] "
   ]
  },
  {
   "cell_type": "code",
   "execution_count": 10,
   "id": "ff65f9d6",
   "metadata": {},
   "outputs": [],
   "source": [
    "def lower_token(tokens): \n",
    "    return [w.lower() for w in tokens]  \n",
    "lower_tokens = [lower_token(token) for token in tokens] "
   ]
  },
  {
   "cell_type": "code",
   "execution_count": 11,
   "id": "54b9e71d",
   "metadata": {},
   "outputs": [],
   "source": [
    "from nltk.corpus import stopwords\n",
    "stoplist = stopwords.words('english')"
   ]
  },
  {
   "cell_type": "code",
   "execution_count": 12,
   "id": "d4ec2416",
   "metadata": {},
   "outputs": [],
   "source": [
    "def remove_stop_words(tokens): \n",
    "    return [word for word in tokens if word not in stoplist]"
   ]
  },
  {
   "cell_type": "code",
   "execution_count": 13,
   "id": "bc408d71",
   "metadata": {},
   "outputs": [],
   "source": [
    "filtered_words = [remove_stop_words(sen) for sen in lower_tokens] "
   ]
  },
  {
   "cell_type": "code",
   "execution_count": 14,
   "id": "e16a2eb9",
   "metadata": {},
   "outputs": [],
   "source": [
    "result = [' '.join(sen) for sen in filtered_words] "
   ]
  },
  {
   "cell_type": "code",
   "execution_count": 15,
   "id": "26fa7dab",
   "metadata": {},
   "outputs": [],
   "source": [
    "data['Text_Final'] = result"
   ]
  },
  {
   "cell_type": "code",
   "execution_count": 16,
   "id": "b6f97bf1",
   "metadata": {},
   "outputs": [],
   "source": [
    "data['tokens'] = filtered_words"
   ]
  },
  {
   "cell_type": "code",
   "execution_count": 17,
   "id": "4917508d",
   "metadata": {},
   "outputs": [],
   "source": [
    "data = data[['Text_Final', 'tokens', 'Label', 'Pos', 'Neg']]"
   ]
  },
  {
   "cell_type": "code",
   "execution_count": 18,
   "id": "973d2f56",
   "metadata": {},
   "outputs": [
    {
     "data": {
      "text/html": [
       "<div>\n",
       "<style scoped>\n",
       "    .dataframe tbody tr th:only-of-type {\n",
       "        vertical-align: middle;\n",
       "    }\n",
       "\n",
       "    .dataframe tbody tr th {\n",
       "        vertical-align: top;\n",
       "    }\n",
       "\n",
       "    .dataframe thead th {\n",
       "        text-align: right;\n",
       "    }\n",
       "</style>\n",
       "<table border=\"1\" class=\"dataframe\">\n",
       "  <thead>\n",
       "    <tr style=\"text-align: right;\">\n",
       "      <th></th>\n",
       "      <th>Text_Final</th>\n",
       "      <th>tokens</th>\n",
       "      <th>Label</th>\n",
       "      <th>Pos</th>\n",
       "      <th>Neg</th>\n",
       "    </tr>\n",
       "  </thead>\n",
       "  <tbody>\n",
       "    <tr>\n",
       "      <th>0</th>\n",
       "      <td>buses approaching place highly unsafe</td>\n",
       "      <td>[buses, approaching, place, highly, unsafe]</td>\n",
       "      <td>1</td>\n",
       "      <td>1</td>\n",
       "      <td>0</td>\n",
       "    </tr>\n",
       "    <tr>\n",
       "      <th>1</th>\n",
       "      <td>man commenting</td>\n",
       "      <td>[man, commenting]</td>\n",
       "      <td>1</td>\n",
       "      <td>1</td>\n",
       "      <td>0</td>\n",
       "    </tr>\n",
       "    <tr>\n",
       "      <th>2</th>\n",
       "      <td>share auto</td>\n",
       "      <td>[share, auto]</td>\n",
       "      <td>0</td>\n",
       "      <td>0</td>\n",
       "      <td>1</td>\n",
       "    </tr>\n",
       "    <tr>\n",
       "      <th>3</th>\n",
       "      <td>coming club night friends guys came stopped us...</td>\n",
       "      <td>[coming, club, night, friends, guys, came, sto...</td>\n",
       "      <td>1</td>\n",
       "      <td>1</td>\n",
       "      <td>0</td>\n",
       "    </tr>\n",
       "  </tbody>\n",
       "</table>\n",
       "</div>"
      ],
      "text/plain": [
       "                                          Text_Final  \\\n",
       "0              buses approaching place highly unsafe   \n",
       "1                                     man commenting   \n",
       "2                                         share auto   \n",
       "3  coming club night friends guys came stopped us...   \n",
       "\n",
       "                                              tokens  Label  Pos  Neg  \n",
       "0        [buses, approaching, place, highly, unsafe]      1    1    0  \n",
       "1                                  [man, commenting]      1    1    0  \n",
       "2                                      [share, auto]      0    0    1  \n",
       "3  [coming, club, night, friends, guys, came, sto...      1    1    0  "
      ]
     },
     "execution_count": 18,
     "metadata": {},
     "output_type": "execute_result"
    }
   ],
   "source": [
    "data[:4]"
   ]
  },
  {
   "cell_type": "markdown",
   "id": "2b97f205",
   "metadata": {},
   "source": [
    "# Split data into test and train"
   ]
  },
  {
   "cell_type": "code",
   "execution_count": 19,
   "id": "d8cf9de0",
   "metadata": {},
   "outputs": [],
   "source": [
    "data_train, data_test = train_test_split(data, test_size=0.5, random_state=42)"
   ]
  },
  {
   "cell_type": "code",
   "execution_count": 20,
   "id": "9eb1ec7a",
   "metadata": {},
   "outputs": [
    {
     "name": "stdout",
     "output_type": "stream",
     "text": [
      "5312 words total, with a vocabulary size of 1756\n",
      "Max sentence length is 102\n"
     ]
    }
   ],
   "source": [
    "all_training_words = [word for tokens in data_train[\"tokens\"] for word in tokens]\n",
    "training_sentence_lengths = [len(tokens) for tokens in data_train[\"tokens\"]]\n",
    "TRAINING_VOCAB = sorted(list(set(all_training_words)))\n",
    "print(\"%s words total, with a vocabulary size of %s\" % (len(all_training_words), len(TRAINING_VOCAB)))\n",
    "print(\"Max sentence length is %s\" % max(training_sentence_lengths))"
   ]
  },
  {
   "cell_type": "code",
   "execution_count": 21,
   "id": "b7142254",
   "metadata": {},
   "outputs": [
    {
     "name": "stdout",
     "output_type": "stream",
     "text": [
      "5451 words total, with a vocabulary size of 1814\n",
      "Max sentence length is 116\n"
     ]
    }
   ],
   "source": [
    "all_test_words = [word for tokens in data_test[\"tokens\"] for word in tokens]\n",
    "test_sentence_lengths = [len(tokens) for tokens in data_test[\"tokens\"]]\n",
    "TEST_VOCAB = sorted(list(set(all_test_words)))\n",
    "print(\"%s words total, with a vocabulary size of %s\" % (len(all_test_words), len(TEST_VOCAB)))\n",
    "print(\"Max sentence length is %s\" % max(test_sentence_lengths))"
   ]
  },
  {
   "cell_type": "markdown",
   "id": "a0920c1c",
   "metadata": {},
   "source": [
    "# Load Google News Word2Vec model"
   ]
  },
  {
   "cell_type": "code",
   "execution_count": 22,
   "id": "84581768",
   "metadata": {},
   "outputs": [],
   "source": [
    "word2vec_path = 'GoogleNews-vectors-negative300.bin.gz'\n",
    "word2vec = models.KeyedVectors.load_word2vec_format(word2vec_path, binary=True)"
   ]
  },
  {
   "cell_type": "code",
   "execution_count": 23,
   "id": "9182cca8",
   "metadata": {},
   "outputs": [],
   "source": [
    "def get_average_word2vec(tokens_list, vector, generate_missing=False, k=300):\n",
    "    if len(tokens_list)<1:\n",
    "        return np.zeros(k)\n",
    "    if generate_missing:\n",
    "        vectorized = [vector[word] if word in vector else np.random.rand(k) for word in tokens_list]\n",
    "    else:\n",
    "        vectorized = [vector[word] if word in vector else np.zeros(k) for word in tokens_list]\n",
    "    length = len(vectorized)\n",
    "    summed = np.sum(vectorized, axis=0)\n",
    "    averaged = np.divide(summed, length)\n",
    "    return averaged"
   ]
  },
  {
   "cell_type": "code",
   "execution_count": 24,
   "id": "3e6c365d",
   "metadata": {},
   "outputs": [],
   "source": [
    "def get_word2vec_embeddings(vectors, clean_comments, generate_missing=False):\n",
    "    embeddings = clean_comments['tokens'].apply(lambda x: get_average_word2vec(x, vectors, \n",
    "                                                                                generate_missing=generate_missing))\n",
    "    return list(embeddings)"
   ]
  },
  {
   "cell_type": "markdown",
   "id": "6a58807a",
   "metadata": {},
   "source": [
    "# Get Embeddings"
   ]
  },
  {
   "cell_type": "code",
   "execution_count": 25,
   "id": "ef58cd60",
   "metadata": {},
   "outputs": [],
   "source": [
    "training_embeddings = get_word2vec_embeddings(word2vec, data_train, generate_missing=True)"
   ]
  },
  {
   "cell_type": "code",
   "execution_count": 26,
   "id": "c768262f",
   "metadata": {},
   "outputs": [],
   "source": [
    "MAX_SEQUENCE_LENGTH = 50\n",
    "EMBEDDING_DIM = 300"
   ]
  },
  {
   "cell_type": "markdown",
   "id": "f041dbdf",
   "metadata": {},
   "source": [
    "# Tokenize and Pad Sequences"
   ]
  },
  {
   "cell_type": "code",
   "execution_count": 27,
   "id": "ac0a4c61",
   "metadata": {},
   "outputs": [
    {
     "name": "stdout",
     "output_type": "stream",
     "text": [
      "Found 1756 unique tokens.\n"
     ]
    }
   ],
   "source": [
    "tokenizer = Tokenizer(num_words=len(TRAINING_VOCAB), lower=True, char_level=False)\n",
    "tokenizer.fit_on_texts(data_train[\"Text_Final\"].tolist())\n",
    "training_sequences = tokenizer.texts_to_sequences(data_train[\"Text_Final\"].tolist())\n",
    "\n",
    "train_word_index = tokenizer.word_index\n",
    "print('Found %s unique tokens.' % len(train_word_index))"
   ]
  },
  {
   "cell_type": "code",
   "execution_count": 28,
   "id": "a55b0f6d",
   "metadata": {},
   "outputs": [],
   "source": [
    "train_cnn_data = pad_sequences(training_sequences, maxlen=MAX_SEQUENCE_LENGTH)"
   ]
  },
  {
   "cell_type": "code",
   "execution_count": 29,
   "id": "e5512b78",
   "metadata": {},
   "outputs": [
    {
     "name": "stdout",
     "output_type": "stream",
     "text": [
      "(1757, 300)\n"
     ]
    }
   ],
   "source": [
    "train_embedding_weights = np.zeros((len(train_word_index)+1, EMBEDDING_DIM))\n",
    "for word,index in train_word_index.items():\n",
    "    train_embedding_weights[index,:] = word2vec[word] if word in word2vec else np.random.rand(EMBEDDING_DIM)\n",
    "print(train_embedding_weights.shape)"
   ]
  },
  {
   "cell_type": "code",
   "execution_count": 30,
   "id": "25909f67",
   "metadata": {},
   "outputs": [],
   "source": [
    "test_sequences = tokenizer.texts_to_sequences(data_test[\"Text_Final\"].tolist())\n",
    "test_cnn_data = pad_sequences(test_sequences, maxlen=MAX_SEQUENCE_LENGTH)"
   ]
  },
  {
   "cell_type": "markdown",
   "id": "748be391",
   "metadata": {},
   "source": [
    "# Define CNN"
   ]
  },
  {
   "cell_type": "code",
   "execution_count": 31,
   "id": "22eb7d06",
   "metadata": {},
   "outputs": [],
   "source": [
    "def ConvNet(embeddings, max_sequence_length, num_words, embedding_dim, labels_index):\n",
    "    \n",
    "    embedding_layer = Embedding(num_words,\n",
    "                            embedding_dim,\n",
    "                            weights=[embeddings],\n",
    "                            input_length=max_sequence_length,\n",
    "                            trainable=False)\n",
    "    \n",
    "    sequence_input = Input(shape=(max_sequence_length,), dtype='int32')\n",
    "    embedded_sequences = embedding_layer(sequence_input)\n",
    "\n",
    "    convs = []\n",
    "    filter_sizes = [2,3,4,5,6]\n",
    "\n",
    "    for filter_size in filter_sizes:\n",
    "        l_conv = Conv1D(filters=200, kernel_size=filter_size, activation='relu')(embedded_sequences)\n",
    "        l_pool = GlobalMaxPooling1D()(l_conv)\n",
    "        convs.append(l_pool)\n",
    "\n",
    "\n",
    "    l_merge = concatenate(convs, axis=1)\n",
    "\n",
    "    x = Dropout(0.1)(l_merge)  \n",
    "    x = Dense(128, activation='relu')(x)\n",
    "    x = Dropout(0.2)(x)\n",
    "    preds = Dense(labels_index, activation='sigmoid')(x)\n",
    "\n",
    "    model = Model(sequence_input, preds)\n",
    "    model.compile(loss='binary_crossentropy',\n",
    "                  optimizer='adam',\n",
    "                  metrics=['acc'])\n",
    "    model.summary()\n",
    "    return model"
   ]
  },
  {
   "cell_type": "code",
   "execution_count": 32,
   "id": "5dc64500",
   "metadata": {},
   "outputs": [],
   "source": [
    "label_names = ['Pos', 'Neg']"
   ]
  },
  {
   "cell_type": "code",
   "execution_count": 33,
   "id": "f9642407",
   "metadata": {},
   "outputs": [],
   "source": [
    "y_train = data_train[label_names].values"
   ]
  },
  {
   "cell_type": "code",
   "execution_count": 34,
   "id": "25682e05",
   "metadata": {},
   "outputs": [],
   "source": [
    "x_train = train_cnn_data\n",
    "y_tr = y_train"
   ]
  },
  {
   "cell_type": "code",
   "execution_count": 35,
   "id": "c9005250",
   "metadata": {},
   "outputs": [
    {
     "name": "stdout",
     "output_type": "stream",
     "text": [
      "Model: \"model\"\n",
      "__________________________________________________________________________________________________\n",
      " Layer (type)                   Output Shape         Param #     Connected to                     \n",
      "==================================================================================================\n",
      " input_1 (InputLayer)           [(None, 50)]         0           []                               \n",
      "                                                                                                  \n",
      " embedding (Embedding)          (None, 50, 300)      527100      ['input_1[0][0]']                \n",
      "                                                                                                  \n",
      " conv1d (Conv1D)                (None, 49, 200)      120200      ['embedding[0][0]']              \n",
      "                                                                                                  \n",
      " conv1d_1 (Conv1D)              (None, 48, 200)      180200      ['embedding[0][0]']              \n",
      "                                                                                                  \n",
      " conv1d_2 (Conv1D)              (None, 47, 200)      240200      ['embedding[0][0]']              \n",
      "                                                                                                  \n",
      " conv1d_3 (Conv1D)              (None, 46, 200)      300200      ['embedding[0][0]']              \n",
      "                                                                                                  \n",
      " conv1d_4 (Conv1D)              (None, 45, 200)      360200      ['embedding[0][0]']              \n",
      "                                                                                                  \n",
      " global_max_pooling1d (GlobalMa  (None, 200)         0           ['conv1d[0][0]']                 \n",
      " xPooling1D)                                                                                      \n",
      "                                                                                                  \n",
      " global_max_pooling1d_1 (Global  (None, 200)         0           ['conv1d_1[0][0]']               \n",
      " MaxPooling1D)                                                                                    \n",
      "                                                                                                  \n",
      " global_max_pooling1d_2 (Global  (None, 200)         0           ['conv1d_2[0][0]']               \n",
      " MaxPooling1D)                                                                                    \n",
      "                                                                                                  \n",
      " global_max_pooling1d_3 (Global  (None, 200)         0           ['conv1d_3[0][0]']               \n",
      " MaxPooling1D)                                                                                    \n",
      "                                                                                                  \n",
      " global_max_pooling1d_4 (Global  (None, 200)         0           ['conv1d_4[0][0]']               \n",
      " MaxPooling1D)                                                                                    \n",
      "                                                                                                  \n",
      " concatenate (Concatenate)      (None, 1000)         0           ['global_max_pooling1d[0][0]',   \n",
      "                                                                  'global_max_pooling1d_1[0][0]', \n",
      "                                                                  'global_max_pooling1d_2[0][0]', \n",
      "                                                                  'global_max_pooling1d_3[0][0]', \n",
      "                                                                  'global_max_pooling1d_4[0][0]'] \n",
      "                                                                                                  \n",
      " dropout (Dropout)              (None, 1000)         0           ['concatenate[0][0]']            \n",
      "                                                                                                  \n",
      " dense (Dense)                  (None, 128)          128128      ['dropout[0][0]']                \n",
      "                                                                                                  \n",
      " dropout_1 (Dropout)            (None, 128)          0           ['dense[0][0]']                  \n",
      "                                                                                                  \n",
      " dense_1 (Dense)                (None, 2)            258         ['dropout_1[0][0]']              \n",
      "                                                                                                  \n",
      "==================================================================================================\n",
      "Total params: 1,856,486\n",
      "Trainable params: 1,329,386\n",
      "Non-trainable params: 527,100\n",
      "__________________________________________________________________________________________________\n"
     ]
    }
   ],
   "source": [
    "model = ConvNet(train_embedding_weights, MAX_SEQUENCE_LENGTH, len(train_word_index)+1, EMBEDDING_DIM, \n",
    "                len(list(label_names)))"
   ]
  },
  {
   "cell_type": "markdown",
   "id": "256b69f8",
   "metadata": {},
   "source": [
    "# Train CNN"
   ]
  },
  {
   "cell_type": "code",
   "execution_count": 36,
   "id": "7be2f8cb",
   "metadata": {},
   "outputs": [],
   "source": [
    "num_epochs = 50\n",
    "batch_size = 34"
   ]
  },
  {
   "cell_type": "code",
   "execution_count": 37,
   "id": "d9529025",
   "metadata": {},
   "outputs": [
    {
     "name": "stdout",
     "output_type": "stream",
     "text": [
      "Epoch 1/50\n",
      "12/12 [==============================] - 2s 48ms/step - loss: 0.7075 - acc: 0.6263 - val_loss: 0.6547 - val_acc: 0.6970\n",
      "Epoch 2/50\n",
      "12/12 [==============================] - 0s 35ms/step - loss: 0.5614 - acc: 0.7652 - val_loss: 0.6028 - val_acc: 0.7172\n",
      "Epoch 3/50\n",
      "12/12 [==============================] - 0s 34ms/step - loss: 0.4028 - acc: 0.8737 - val_loss: 0.5710 - val_acc: 0.7172\n",
      "Epoch 4/50\n",
      "12/12 [==============================] - 0s 34ms/step - loss: 0.2677 - acc: 0.9116 - val_loss: 0.5606 - val_acc: 0.7273\n",
      "Epoch 5/50\n",
      "12/12 [==============================] - 0s 35ms/step - loss: 0.1602 - acc: 0.9621 - val_loss: 0.6005 - val_acc: 0.7273\n",
      "Epoch 6/50\n",
      "12/12 [==============================] - 0s 35ms/step - loss: 0.0969 - acc: 0.9697 - val_loss: 0.6572 - val_acc: 0.7273\n",
      "Epoch 7/50\n",
      "12/12 [==============================] - 0s 35ms/step - loss: 0.0640 - acc: 0.9848 - val_loss: 0.6782 - val_acc: 0.7576\n",
      "Epoch 8/50\n",
      "12/12 [==============================] - 0s 35ms/step - loss: 0.0488 - acc: 0.9874 - val_loss: 0.7746 - val_acc: 0.6970\n",
      "Epoch 9/50\n",
      "12/12 [==============================] - 0s 35ms/step - loss: 0.0409 - acc: 0.9874 - val_loss: 0.7920 - val_acc: 0.7273\n",
      "Epoch 10/50\n",
      "12/12 [==============================] - 0s 35ms/step - loss: 0.0377 - acc: 0.9848 - val_loss: 0.8648 - val_acc: 0.7172\n",
      "Epoch 11/50\n",
      "12/12 [==============================] - 0s 35ms/step - loss: 0.0358 - acc: 0.9899 - val_loss: 0.8505 - val_acc: 0.7273\n",
      "Epoch 12/50\n",
      "12/12 [==============================] - 0s 35ms/step - loss: 0.0336 - acc: 0.9874 - val_loss: 0.8703 - val_acc: 0.7374\n",
      "Epoch 13/50\n",
      "12/12 [==============================] - 0s 35ms/step - loss: 0.0439 - acc: 0.9874 - val_loss: 0.9787 - val_acc: 0.7071\n",
      "Epoch 14/50\n",
      "12/12 [==============================] - 0s 34ms/step - loss: 0.0349 - acc: 0.9823 - val_loss: 0.9145 - val_acc: 0.7172\n",
      "Epoch 15/50\n",
      "12/12 [==============================] - 0s 34ms/step - loss: 0.0293 - acc: 0.9874 - val_loss: 0.9030 - val_acc: 0.7374\n",
      "Epoch 16/50\n",
      "12/12 [==============================] - 0s 34ms/step - loss: 0.0311 - acc: 0.9874 - val_loss: 0.9439 - val_acc: 0.7374\n",
      "Epoch 17/50\n",
      "12/12 [==============================] - 0s 36ms/step - loss: 0.0309 - acc: 0.9874 - val_loss: 1.0005 - val_acc: 0.7071\n",
      "Epoch 18/50\n",
      "12/12 [==============================] - 0s 34ms/step - loss: 0.0288 - acc: 0.9874 - val_loss: 1.0277 - val_acc: 0.7071\n",
      "Epoch 19/50\n",
      "12/12 [==============================] - 0s 34ms/step - loss: 0.0284 - acc: 0.9874 - val_loss: 1.0288 - val_acc: 0.7172\n",
      "Epoch 20/50\n",
      "12/12 [==============================] - 0s 35ms/step - loss: 0.0289 - acc: 0.9874 - val_loss: 1.0145 - val_acc: 0.7273\n",
      "Epoch 21/50\n",
      "12/12 [==============================] - 0s 34ms/step - loss: 0.0286 - acc: 0.9874 - val_loss: 1.0453 - val_acc: 0.7273\n",
      "Epoch 22/50\n",
      "12/12 [==============================] - 0s 34ms/step - loss: 0.0276 - acc: 0.9874 - val_loss: 1.0530 - val_acc: 0.7273\n",
      "Epoch 23/50\n",
      "12/12 [==============================] - 0s 34ms/step - loss: 0.0284 - acc: 0.9874 - val_loss: 1.0899 - val_acc: 0.7172\n",
      "Epoch 24/50\n",
      "12/12 [==============================] - 0s 34ms/step - loss: 0.0303 - acc: 0.9874 - val_loss: 1.0715 - val_acc: 0.7374\n",
      "Epoch 25/50\n",
      "12/12 [==============================] - 0s 35ms/step - loss: 0.0309 - acc: 0.9874 - val_loss: 1.1056 - val_acc: 0.7273\n",
      "Epoch 26/50\n",
      "12/12 [==============================] - 0s 34ms/step - loss: 0.0277 - acc: 0.9874 - val_loss: 1.1175 - val_acc: 0.7172\n",
      "Epoch 27/50\n",
      "12/12 [==============================] - 0s 34ms/step - loss: 0.0288 - acc: 0.9874 - val_loss: 1.1690 - val_acc: 0.7172\n",
      "Epoch 28/50\n",
      "12/12 [==============================] - 0s 34ms/step - loss: 0.0278 - acc: 0.9874 - val_loss: 1.1467 - val_acc: 0.7172\n",
      "Epoch 29/50\n",
      "12/12 [==============================] - 0s 34ms/step - loss: 0.0275 - acc: 0.9874 - val_loss: 1.2344 - val_acc: 0.7071\n",
      "Epoch 30/50\n",
      "12/12 [==============================] - 0s 34ms/step - loss: 0.0268 - acc: 0.9874 - val_loss: 1.1903 - val_acc: 0.7071\n",
      "Epoch 31/50\n",
      "12/12 [==============================] - 0s 34ms/step - loss: 0.0274 - acc: 0.9874 - val_loss: 1.2228 - val_acc: 0.7071\n",
      "Epoch 32/50\n",
      "12/12 [==============================] - 0s 34ms/step - loss: 0.0269 - acc: 0.9874 - val_loss: 1.1858 - val_acc: 0.7071\n",
      "Epoch 33/50\n",
      "12/12 [==============================] - 0s 34ms/step - loss: 0.0273 - acc: 0.9874 - val_loss: 1.2207 - val_acc: 0.7172\n",
      "Epoch 34/50\n",
      "12/12 [==============================] - 0s 33ms/step - loss: 0.0259 - acc: 0.9874 - val_loss: 1.2362 - val_acc: 0.7172\n",
      "Epoch 35/50\n",
      "12/12 [==============================] - 0s 34ms/step - loss: 0.0282 - acc: 0.9874 - val_loss: 1.2780 - val_acc: 0.7071\n",
      "Epoch 36/50\n",
      "12/12 [==============================] - 0s 34ms/step - loss: 0.0269 - acc: 0.9874 - val_loss: 1.2769 - val_acc: 0.7071\n",
      "Epoch 37/50\n",
      "12/12 [==============================] - 0s 35ms/step - loss: 0.0262 - acc: 0.9874 - val_loss: 1.2703 - val_acc: 0.7071\n",
      "Epoch 38/50\n",
      "12/12 [==============================] - 0s 35ms/step - loss: 0.0247 - acc: 0.9874 - val_loss: 1.2527 - val_acc: 0.7172\n",
      "Epoch 39/50\n",
      "12/12 [==============================] - 0s 34ms/step - loss: 0.0275 - acc: 0.9874 - val_loss: 1.2616 - val_acc: 0.7172\n",
      "Epoch 40/50\n",
      "12/12 [==============================] - 0s 34ms/step - loss: 0.0270 - acc: 0.9874 - val_loss: 1.2874 - val_acc: 0.7172\n",
      "Epoch 41/50\n",
      "12/12 [==============================] - 0s 34ms/step - loss: 0.0293 - acc: 0.9874 - val_loss: 1.3190 - val_acc: 0.7071\n",
      "Epoch 42/50\n",
      "12/12 [==============================] - 0s 34ms/step - loss: 0.0281 - acc: 0.9874 - val_loss: 1.3258 - val_acc: 0.7071\n",
      "Epoch 43/50\n",
      "12/12 [==============================] - 0s 34ms/step - loss: 0.0269 - acc: 0.9874 - val_loss: 1.3519 - val_acc: 0.7071\n",
      "Epoch 44/50\n",
      "12/12 [==============================] - 0s 35ms/step - loss: 0.0275 - acc: 0.9874 - val_loss: 1.2484 - val_acc: 0.7475\n",
      "Epoch 45/50\n",
      "12/12 [==============================] - 0s 36ms/step - loss: 0.0257 - acc: 0.9874 - val_loss: 1.2367 - val_acc: 0.7475\n",
      "Epoch 46/50\n",
      "12/12 [==============================] - 0s 34ms/step - loss: 0.0273 - acc: 0.9874 - val_loss: 1.2686 - val_acc: 0.7172\n",
      "Epoch 47/50\n",
      "12/12 [==============================] - 0s 34ms/step - loss: 0.0271 - acc: 0.9874 - val_loss: 1.3361 - val_acc: 0.6970\n",
      "Epoch 48/50\n",
      "12/12 [==============================] - 0s 34ms/step - loss: 0.0251 - acc: 0.9874 - val_loss: 1.3544 - val_acc: 0.6970\n",
      "Epoch 49/50\n",
      "12/12 [==============================] - 0s 34ms/step - loss: 0.0261 - acc: 0.9874 - val_loss: 1.3377 - val_acc: 0.7071\n",
      "Epoch 50/50\n",
      "12/12 [==============================] - 0s 34ms/step - loss: 0.0260 - acc: 0.9874 - val_loss: 1.3714 - val_acc: 0.6970\n"
     ]
    }
   ],
   "source": [
    "hist = model.fit(x_train, y_tr, epochs=num_epochs, validation_split=0.20, shuffle=True, batch_size=batch_size)"
   ]
  },
  {
   "cell_type": "code",
   "execution_count": null,
   "id": "c2aa311d",
   "metadata": {},
   "outputs": [],
   "source": []
  },
  {
   "cell_type": "code",
   "execution_count": 47,
   "id": "b478a799",
   "metadata": {},
   "outputs": [],
   "source": [
    "# define Beale's function which we want to minimize\n",
    "def objective(X):\n",
    "    x = X[0]; y = X[1]\n",
    "    return (1.5 - x + x*y)**2 + (2.25 - x + x*y**2)**2 + (2.625 - x + x*y**3)**2"
   ]
  },
  {
   "cell_type": "code",
   "execution_count": 45,
   "id": "bf03f3f4",
   "metadata": {},
   "outputs": [
    {
     "ename": "NameError",
     "evalue": "name 'cnn_model' is not defined",
     "output_type": "error",
     "traceback": [
      "\u001b[1;31m---------------------------------------------------------------------------\u001b[0m",
      "\u001b[1;31mNameError\u001b[0m                                 Traceback (most recent call last)",
      "\u001b[1;32m<timed exec>\u001b[0m in \u001b[0;36m<module>\u001b[1;34m\u001b[0m\n",
      "\u001b[1;31mNameError\u001b[0m: name 'cnn_model' is not defined"
     ]
    }
   ],
   "source": [
    "%%time\n",
    "# Fit the model\n",
    "batch_size = int(input_dim/100)\n",
    "\n",
    "lr_model_history = lr_model.fit(x_train, y_train,\n",
    "                    batch_size=batch_size,\n",
    "                    epochs=epochs,\n",
    "                    verbose=1,\n",
    "                    validation_data=(x_test, y_test))"
   ]
  },
  {
   "cell_type": "code",
   "execution_count": null,
   "id": "f8657b50",
   "metadata": {},
   "outputs": [],
   "source": []
  },
  {
   "cell_type": "code",
   "execution_count": null,
   "id": "e4ef762f",
   "metadata": {},
   "outputs": [],
   "source": []
  },
  {
   "cell_type": "code",
   "execution_count": null,
   "id": "6794e19b",
   "metadata": {},
   "outputs": [],
   "source": []
  },
  {
   "cell_type": "code",
   "execution_count": null,
   "id": "011b501e",
   "metadata": {},
   "outputs": [],
   "source": []
  },
  {
   "cell_type": "markdown",
   "id": "f68c9c5d",
   "metadata": {},
   "source": [
    "# Test CNN"
   ]
  },
  {
   "cell_type": "code",
   "execution_count": 38,
   "id": "a8e542b2",
   "metadata": {},
   "outputs": [
    {
     "name": "stdout",
     "output_type": "stream",
     "text": [
      "1/1 [==============================] - 0s 201ms/step\n"
     ]
    }
   ],
   "source": [
    "predictions = model.predict(test_cnn_data, batch_size=1024, verbose=1)"
   ]
  },
  {
   "cell_type": "code",
   "execution_count": 39,
   "id": "ff009605",
   "metadata": {},
   "outputs": [],
   "source": [
    "labels = [1, 0]"
   ]
  },
  {
   "cell_type": "code",
   "execution_count": 40,
   "id": "f29ad304",
   "metadata": {},
   "outputs": [],
   "source": [
    "prediction_labels=[]\n",
    "for p in predictions:\n",
    "    prediction_labels.append(labels[np.argmax(p)])"
   ]
  },
  {
   "cell_type": "code",
   "execution_count": 41,
   "id": "baa3c80d",
   "metadata": {},
   "outputs": [
    {
     "data": {
      "text/plain": [
       "0    291\n",
       "1    205\n",
       "Name: Label, dtype: int64"
      ]
     },
     "execution_count": 41,
     "metadata": {},
     "output_type": "execute_result"
    }
   ],
   "source": [
    "data_test.Label.value_counts()"
   ]
  },
  {
   "cell_type": "code",
   "execution_count": 42,
   "id": "53461f84",
   "metadata": {},
   "outputs": [
    {
     "data": {
      "text/plain": [
       "0.7641129032258065"
      ]
     },
     "execution_count": 42,
     "metadata": {},
     "output_type": "execute_result"
    }
   ],
   "source": [
    "sum(data_test.Label==prediction_labels)/len(prediction_labels)"
   ]
  },
  {
   "cell_type": "code",
   "execution_count": 43,
   "id": "f76d4a58",
   "metadata": {},
   "outputs": [
    {
     "data": {
      "text/plain": [
       "Text(23.999999999999993, 0.5, 'Actual')"
      ]
     },
     "execution_count": 43,
     "metadata": {},
     "output_type": "execute_result"
    },
    {
     "data": {
      "image/png": "[encoded data removed]",
      "text/plain": [
       "<Figure size 360x360 with 2 Axes>"
      ]
     },
     "metadata": {
      "needs_background": "light"
     },
     "output_type": "display_data"
    }
   ],
   "source": [
    "import seaborn as sns\n",
    "import matplotlib.pyplot as plt\n",
    "from sklearn.metrics import confusion_matrix\n",
    "\n",
    "cm = confusion_matrix(data_test.Label, prediction_labels)\n",
    "plt.figure(figsize = (5,5))\n",
    "sns.heatmap(cm,cmap= \"Blues\", \n",
    "            linecolor = 'black', \n",
    "            linewidth = 1, \n",
    "            annot = True, \n",
    "            fmt='', \n",
    "            xticklabels = ['Sexual Predation','Not Sexual Predation'], \n",
    "            yticklabels = ['Sexual Predation','Not Sexual Predation'])\n",
    "plt.xlabel(\"Predicted\")\n",
    "plt.ylabel(\"Actual\")"
   ]
  },
  {
   "cell_type": "code",
   "execution_count": null,
   "id": "80e187b7",
   "metadata": {},
   "outputs": [],
   "source": []
  }
 ],
 "metadata": {
  "kernelspec": {
   "display_name": "Python 3 (ipykernel)",
   "language": "python",
   "name": "python3"
  },
  "language_info": {
   "codemirror_mode": {
    "name": "ipython",
    "version": 3
   },
   "file_extension": ".py",
   "mimetype": "text/x-python",
   "name": "python",
   "nbconvert_exporter": "python",
   "pygments_lexer": "ipython3",
   "version": "3.9.7"
  }
 },
 "nbformat": 4,
 "nbformat_minor": 5
}
