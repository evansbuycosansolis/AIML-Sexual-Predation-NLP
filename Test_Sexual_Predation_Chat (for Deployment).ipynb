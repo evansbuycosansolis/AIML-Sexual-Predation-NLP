{
 "cells": [
  {
   "cell_type": "code",
   "execution_count": 6,
   "metadata": {},
   "outputs": [
    {
     "name": "stderr",
     "output_type": "stream",
     "text": [
      "[nltk_data] Downloading package stopwords to\n",
      "[nltk_data]     C:\\Users\\ASUS\\AppData\\Roaming\\nltk_data...\n",
      "[nltk_data]   Package stopwords is already up-to-date!\n"
     ]
    },
    {
     "name": "stdout",
     "output_type": "stream",
     "text": [
      "Enter new chat...fdgdfg\n",
      "(1, 1500)\n",
      "Not Sexual Predation\n"
     ]
    }
   ],
   "source": [
    "import re\n",
    "import nltk\n",
    "nltk.download('stopwords')\n",
    "from nltk.corpus import stopwords\n",
    "from nltk.stem.porter import PorterStemmer\n",
    "import pickle\n",
    "\n",
    "loaded_model = pickle.load(open(\"chatx.pkl\", \"rb\"))\n",
    "cv = pickle.load(open(\"cvx.pkl\",\"rb\"))\n",
    "\n",
    "def new_chat(new_chat):\n",
    "    new_chat = new_chat\n",
    "    new_chat = re.sub('[^a-zA-Z]', ' ', new_chat)\n",
    "    new_chat = new_chat.lower()\n",
    "    new_chat = new_chat.split()\n",
    "    ps = PorterStemmer()\n",
    "    all_stopwords = stopwords.words('english')\n",
    "    all_stopwords.remove('not')\n",
    "    new_chat = [ps.stem(word) for word in new_chat if not word in set(all_stopwords)]\n",
    "    new_chat = ' '.join(new_chat)\n",
    "    new_corpus = [new_chat]\n",
    "    new_X_test = cv.transform(new_corpus).toarray()\n",
    "    print(new_X_test.shape)\n",
    "    new_y_pred = loaded_model.predict(new_X_test)\n",
    "    return new_y_pred\n",
    "\n",
    "new_chat = new_chat(str(input(\"Enter new chat...\")))\n",
    "if new_chat[0]==1:\n",
    "    print(\"Sexual Predation\")\n",
    "else :\n",
    "    print(\"Not Sexual Predation\")"
   ]
  },
  {
   "cell_type": "code",
   "execution_count": null,
   "metadata": {},
   "outputs": [],
   "source": []
  }
 ],
 "metadata": {
  "kernelspec": {
   "display_name": "Python 3 (ipykernel)",
   "language": "python",
   "name": "python3"
  },
  "language_info": {
   "codemirror_mode": {
    "name": "ipython",
    "version": 3
   },
   "file_extension": ".py",
   "mimetype": "text/x-python",
   "name": "python",
   "nbconvert_exporter": "python",
   "pygments_lexer": "ipython3",
   "version": "3.9.7"
  }
 },
 "nbformat": 4,
 "nbformat_minor": 4
}
